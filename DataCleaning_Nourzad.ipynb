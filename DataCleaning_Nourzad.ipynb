{
 "cells": [
  {
   "cell_type": "markdown",
   "metadata": {},
   "source": [
    "<h1 align=\"center\"><font size = 8>Machine Learning | 2024 </font></h1>\n",
    "<br>\n",
    "<h2 align=\"center\"><font size = 6  color=\"darkblue\"> Data Cleaning </font></h2>\n",
    "<h3 align=\"center\">Abdulrahman Nourzad</h3>\n",
    "<h4 align=\"center\">Master's in Computer Software Engineering & Post DBA in Business Intelligence</h4>\n",
    "<br>\n",
    "<br>\n",
    "<hr>\n",
    "<br>\n",
    "<br>"
   ]
  },
  {
   "cell_type": "markdown",
   "metadata": {},
   "source": [
    "<h2 align=\"left\"> Project 5: Data Cleaning on COVID-19 dataset</h2>"
   ]
  },
  {
   "cell_type": "markdown",
   "metadata": {},
   "source": [
    "# 1. Introduction"
   ]
  },
  {
   "cell_type": "markdown",
   "metadata": {},
   "source": [
    "#### What is data cleaning?\n",
    "\n",
    "Data cleaning is the process of fixing or removing incorrect, corrupted, incorrectly formatted, duplicate, or incomplete data within a dataset. When combining multiple data sources, there are many opportunities for data to be duplicated or mislabeled. If data is incorrect, outcomes and algorithms are unreliable, even though they may look correct. There is no one absolute way to prescribe the exact steps in the data cleaning process because the processes will vary from dataset to dataset. But it is crucial to establish a template for your data cleaning process so you know you are doing it the right way every time."
   ]
  },
  {
   "cell_type": "markdown",
   "metadata": {},
   "source": [
    "# 📤 2. Import necessary libraries"
   ]
  },
  {
   "cell_type": "code",
   "execution_count": 1,
   "metadata": {},
   "outputs": [],
   "source": [
    "import numpy as np\n",
    "import pandas as pd\n",
    "import matplotlib.pyplot as plt\n",
    "import seaborn as sns\n",
    "\n",
    "import warnings\n",
    "warnings.filterwarnings(\"ignore\")"
   ]
  },
  {
   "cell_type": "markdown",
   "metadata": {},
   "source": [
    "# 💾 3. Read Data"
   ]
  },
  {
   "cell_type": "code",
   "execution_count": 2,
   "metadata": {},
   "outputs": [],
   "source": [
    "data_covid = pd.read_csv(\"COVID-19.csv\")"
   ]
  },
  {
   "cell_type": "markdown",
   "metadata": {},
   "source": [
    "# 🔎 4. Check & Overview the basic information of the dataset"
   ]
  },
  {
   "cell_type": "code",
   "execution_count": 3,
   "metadata": {},
   "outputs": [
    {
     "data": {
      "text/html": [
       "<div>\n",
       "<style scoped>\n",
       "    .dataframe tbody tr th:only-of-type {\n",
       "        vertical-align: middle;\n",
       "    }\n",
       "\n",
       "    .dataframe tbody tr th {\n",
       "        vertical-align: top;\n",
       "    }\n",
       "\n",
       "    .dataframe thead th {\n",
       "        text-align: right;\n",
       "    }\n",
       "</style>\n",
       "<table border=\"1\" class=\"dataframe\">\n",
       "  <thead>\n",
       "    <tr style=\"text-align: right;\">\n",
       "      <th></th>\n",
       "      <th>Country</th>\n",
       "      <th>date</th>\n",
       "      <th>SESSO</th>\n",
       "      <th>AGE</th>\n",
       "      <th>WBC</th>\n",
       "      <th>Piastrine</th>\n",
       "      <th>Neutrofili</th>\n",
       "      <th>Linfociti</th>\n",
       "      <th>Monociti</th>\n",
       "      <th>Eosinofili</th>\n",
       "      <th>Basofili</th>\n",
       "      <th>PCR</th>\n",
       "      <th>AST</th>\n",
       "      <th>ALT</th>\n",
       "      <th>ALP</th>\n",
       "      <th>GGT</th>\n",
       "      <th>LDH</th>\n",
       "      <th>TARGET</th>\n",
       "    </tr>\n",
       "  </thead>\n",
       "  <tbody>\n",
       "    <tr>\n",
       "      <th>0</th>\n",
       "      <td>Canada</td>\n",
       "      <td>3/2/07</td>\n",
       "      <td>M</td>\n",
       "      <td>56</td>\n",
       "      <td>2.9</td>\n",
       "      <td>128.0</td>\n",
       "      <td>1.9</td>\n",
       "      <td>0.8</td>\n",
       "      <td>0.2</td>\n",
       "      <td>0.0</td>\n",
       "      <td>0.0</td>\n",
       "      <td>29.0</td>\n",
       "      <td>36.0</td>\n",
       "      <td>18.0</td>\n",
       "      <td>43.0</td>\n",
       "      <td>21.0</td>\n",
       "      <td>257.0</td>\n",
       "      <td>2</td>\n",
       "    </tr>\n",
       "    <tr>\n",
       "      <th>1</th>\n",
       "      <td>USA</td>\n",
       "      <td>3/22/07</td>\n",
       "      <td>M</td>\n",
       "      <td>56</td>\n",
       "      <td>3.5</td>\n",
       "      <td>151.0</td>\n",
       "      <td>2.1</td>\n",
       "      <td>0.9</td>\n",
       "      <td>0.4</td>\n",
       "      <td>0.0</td>\n",
       "      <td>0.0</td>\n",
       "      <td>16.5</td>\n",
       "      <td>25.0</td>\n",
       "      <td>14.0</td>\n",
       "      <td>50.0</td>\n",
       "      <td>17.0</td>\n",
       "      <td>207.0</td>\n",
       "      <td>2</td>\n",
       "    </tr>\n",
       "    <tr>\n",
       "      <th>2</th>\n",
       "      <td>Austria</td>\n",
       "      <td>4/6/07</td>\n",
       "      <td>M</td>\n",
       "      <td>72</td>\n",
       "      <td>4.6</td>\n",
       "      <td>206.0</td>\n",
       "      <td>NaN</td>\n",
       "      <td>NaN</td>\n",
       "      <td>NaN</td>\n",
       "      <td>NaN</td>\n",
       "      <td>NaN</td>\n",
       "      <td>193.7</td>\n",
       "      <td>31.0</td>\n",
       "      <td>22.0</td>\n",
       "      <td>NaN</td>\n",
       "      <td>NaN</td>\n",
       "      <td>NaN</td>\n",
       "      <td>2</td>\n",
       "    </tr>\n",
       "    <tr>\n",
       "      <th>3</th>\n",
       "      <td>Pakistan</td>\n",
       "      <td>4/14/07</td>\n",
       "      <td>M</td>\n",
       "      <td>72</td>\n",
       "      <td>16.5</td>\n",
       "      <td>316.0</td>\n",
       "      <td>14.0</td>\n",
       "      <td>1.2</td>\n",
       "      <td>0.3</td>\n",
       "      <td>0.0</td>\n",
       "      <td>0.0</td>\n",
       "      <td>318.7</td>\n",
       "      <td>96.0</td>\n",
       "      <td>33.0</td>\n",
       "      <td>80.0</td>\n",
       "      <td>42.0</td>\n",
       "      <td>651.0</td>\n",
       "      <td>2</td>\n",
       "    </tr>\n",
       "    <tr>\n",
       "      <th>4</th>\n",
       "      <td>germany</td>\n",
       "      <td>4/15/07</td>\n",
       "      <td>M</td>\n",
       "      <td>77</td>\n",
       "      <td>4.9</td>\n",
       "      <td>198.0</td>\n",
       "      <td>NaN</td>\n",
       "      <td>NaN</td>\n",
       "      <td>NaN</td>\n",
       "      <td>NaN</td>\n",
       "      <td>NaN</td>\n",
       "      <td>NaN</td>\n",
       "      <td>NaN</td>\n",
       "      <td>NaN</td>\n",
       "      <td>NaN</td>\n",
       "      <td>NaN</td>\n",
       "      <td>NaN</td>\n",
       "      <td>2</td>\n",
       "    </tr>\n",
       "  </tbody>\n",
       "</table>\n",
       "</div>"
      ],
      "text/plain": [
       "    Country     date SESSO  AGE   WBC  Piastrine  Neutrofili Linfociti  \\\n",
       "0    Canada   3/2/07     M   56   2.9      128.0         1.9       0.8   \n",
       "1       USA  3/22/07     M   56   3.5      151.0         2.1       0.9   \n",
       "2   Austria   4/6/07     M   72   4.6      206.0         NaN       NaN   \n",
       "3  Pakistan  4/14/07     M   72  16.5      316.0        14.0       1.2   \n",
       "4   germany  4/15/07     M   77   4.9      198.0         NaN       NaN   \n",
       "\n",
       "   Monociti  Eosinofili  Basofili    PCR   AST   ALT   ALP   GGT    LDH  \\\n",
       "0       0.2         0.0       0.0   29.0  36.0  18.0  43.0  21.0  257.0   \n",
       "1       0.4         0.0       0.0   16.5  25.0  14.0  50.0  17.0  207.0   \n",
       "2       NaN         NaN       NaN  193.7  31.0  22.0   NaN   NaN    NaN   \n",
       "3       0.3         0.0       0.0  318.7  96.0  33.0  80.0  42.0  651.0   \n",
       "4       NaN         NaN       NaN    NaN   NaN   NaN   NaN   NaN    NaN   \n",
       "\n",
       "   TARGET  \n",
       "0       2  \n",
       "1       2  \n",
       "2       2  \n",
       "3       2  \n",
       "4       2  "
      ]
     },
     "execution_count": 3,
     "metadata": {},
     "output_type": "execute_result"
    }
   ],
   "source": [
    "data_covid.head()"
   ]
  },
  {
   "cell_type": "code",
   "execution_count": 4,
   "metadata": {},
   "outputs": [
    {
     "data": {
      "text/html": [
       "<div>\n",
       "<style scoped>\n",
       "    .dataframe tbody tr th:only-of-type {\n",
       "        vertical-align: middle;\n",
       "    }\n",
       "\n",
       "    .dataframe tbody tr th {\n",
       "        vertical-align: top;\n",
       "    }\n",
       "\n",
       "    .dataframe thead th {\n",
       "        text-align: right;\n",
       "    }\n",
       "</style>\n",
       "<table border=\"1\" class=\"dataframe\">\n",
       "  <thead>\n",
       "    <tr style=\"text-align: right;\">\n",
       "      <th></th>\n",
       "      <th>Shape of data</th>\n",
       "    </tr>\n",
       "  </thead>\n",
       "  <tbody>\n",
       "    <tr>\n",
       "      <th>Rows</th>\n",
       "      <td>295</td>\n",
       "    </tr>\n",
       "    <tr>\n",
       "      <th>Columns</th>\n",
       "      <td>18</td>\n",
       "    </tr>\n",
       "  </tbody>\n",
       "</table>\n",
       "</div>"
      ],
      "text/plain": [
       "         Shape of data\n",
       "Rows               295\n",
       "Columns             18"
      ]
     },
     "execution_count": 4,
     "metadata": {},
     "output_type": "execute_result"
    }
   ],
   "source": [
    "row = data_covid.shape[0]\n",
    "column = data_covid.shape[1]\n",
    "results = pd.DataFrame([[row], [column]], columns=['Shape of data'], index=['Rows', 'Columns'])\n",
    "results"
   ]
  },
  {
   "cell_type": "code",
   "execution_count": 5,
   "metadata": {},
   "outputs": [
    {
     "name": "stdout",
     "output_type": "stream",
     "text": [
      "<class 'pandas.core.frame.DataFrame'>\n",
      "RangeIndex: 295 entries, 0 to 294\n",
      "Data columns (total 18 columns):\n",
      " #   Column      Non-Null Count  Dtype  \n",
      "---  ------      --------------  -----  \n",
      " 0   Country     295 non-null    object \n",
      " 1   date        295 non-null    object \n",
      " 2   SESSO       295 non-null    object \n",
      " 3   AGE         295 non-null    int64  \n",
      " 4   WBC         293 non-null    float64\n",
      " 5   Piastrine   293 non-null    float64\n",
      " 6   Neutrofili  222 non-null    float64\n",
      " 7   Linfociti   222 non-null    object \n",
      " 8   Monociti    222 non-null    float64\n",
      " 9   Eosinofili  222 non-null    float64\n",
      " 10  Basofili    220 non-null    float64\n",
      " 11  PCR         286 non-null    float64\n",
      " 12  AST         292 non-null    float64\n",
      " 13  ALT         279 non-null    float64\n",
      " 14  ALP         139 non-null    float64\n",
      " 15  GGT         144 non-null    float64\n",
      " 16  LDH         205 non-null    float64\n",
      " 17  TARGET      295 non-null    int64  \n",
      "dtypes: float64(12), int64(2), object(4)\n",
      "memory usage: 41.6+ KB\n"
     ]
    }
   ],
   "source": [
    "data_covid.info()"
   ]
  },
  {
   "cell_type": "code",
   "execution_count": 6,
   "metadata": {},
   "outputs": [
    {
     "data": {
      "text/plain": [
       "array([2, 1, 0], dtype=int64)"
      ]
     },
     "execution_count": 6,
     "metadata": {},
     "output_type": "execute_result"
    }
   ],
   "source": [
    "data_covid['TARGET'].unique()"
   ]
  },
  {
   "cell_type": "markdown",
   "metadata": {},
   "source": [
    "# 5. Inconsistent Data Entry"
   ]
  },
  {
   "cell_type": "markdown",
   "metadata": {},
   "source": [
    "### 🟣 Check & Convert data type"
   ]
  },
  {
   "cell_type": "code",
   "execution_count": 7,
   "metadata": {},
   "outputs": [
    {
     "name": "stdout",
     "output_type": "stream",
     "text": [
      "<class 'pandas.core.frame.DataFrame'>\n",
      "RangeIndex: 295 entries, 0 to 294\n",
      "Data columns (total 18 columns):\n",
      " #   Column      Non-Null Count  Dtype  \n",
      "---  ------      --------------  -----  \n",
      " 0   Country     295 non-null    object \n",
      " 1   date        295 non-null    object \n",
      " 2   SESSO       295 non-null    object \n",
      " 3   AGE         295 non-null    int64  \n",
      " 4   WBC         293 non-null    float64\n",
      " 5   Piastrine   293 non-null    float64\n",
      " 6   Neutrofili  222 non-null    float64\n",
      " 7   Linfociti   222 non-null    object \n",
      " 8   Monociti    222 non-null    float64\n",
      " 9   Eosinofili  222 non-null    float64\n",
      " 10  Basofili    220 non-null    float64\n",
      " 11  PCR         286 non-null    float64\n",
      " 12  AST         292 non-null    float64\n",
      " 13  ALT         279 non-null    float64\n",
      " 14  ALP         139 non-null    float64\n",
      " 15  GGT         144 non-null    float64\n",
      " 16  LDH         205 non-null    float64\n",
      " 17  TARGET      295 non-null    int64  \n",
      "dtypes: float64(12), int64(2), object(4)\n",
      "memory usage: 41.6+ KB\n"
     ]
    }
   ],
   "source": [
    "data_covid.info()"
   ]
  },
  {
   "cell_type": "markdown",
   "metadata": {},
   "source": [
    "**Result & Decide :**"
   ]
  },
  {
   "cell_type": "markdown",
   "metadata": {},
   "source": [
    "- **Row  Column      Data type        result         Decide to convert data type**     \n",
    "-   0   Country     object             OK                     category\n",
    "-   1   date        object             OK                         -\n",
    "-   2   SESSO       object             OK                     category (better: int)\n",
    "-   3   AGE         int64              OK                         -\n",
    "-   4   WBC         float64            OK                         -\n",
    "-   5   Piastrine   float64            OK                         -\n",
    "-   6   Neutrofili  float64            OK                         -\n",
    "-   7   Linfociti   object           Not OK                     float\n",
    "-   8   Monociti    float64            OK                         -\n",
    "-   9   Eosinofili  float64            OK                         -\n",
    "-   10  Basofili    float64            OK                         -\n",
    "-   11  PCR         float64            OK                         -\n",
    "-   12  AST         float64            OK                         -\n",
    "-   13  ALT         float64            OK                         -\n",
    "-   14  ALP         float64            OK                         -\n",
    "-   15  GGT         float64            OK                         -\n",
    "-   16  LDH         float64            OK                         -\n",
    "-   17  TARGET      int64              OK                         -"
   ]
  },
  {
   "cell_type": "markdown",
   "metadata": {},
   "source": [
    "**Country**"
   ]
  },
  {
   "cell_type": "code",
   "execution_count": 8,
   "metadata": {},
   "outputs": [
    {
     "data": {
      "text/plain": [
       "0           Canada\n",
       "1              USA\n",
       "2          Austria\n",
       "3         Pakistan\n",
       "4          germany\n",
       "          ...     \n",
       "290       Pakistan\n",
       "291            USA\n",
       "292    South Korea\n",
       "293       Pakistan\n",
       "294       pakistan\n",
       "Name: Country, Length: 295, dtype: object"
      ]
     },
     "execution_count": 8,
     "metadata": {},
     "output_type": "execute_result"
    }
   ],
   "source": [
    "data_covid['Country']"
   ]
  },
  {
   "cell_type": "code",
   "execution_count": 9,
   "metadata": {},
   "outputs": [],
   "source": [
    "data_covid['Country'] = data_covid['Country'].astype('category')"
   ]
  },
  {
   "cell_type": "code",
   "execution_count": 10,
   "metadata": {},
   "outputs": [
    {
     "data": {
      "text/plain": [
       "0           Canada\n",
       "1              USA\n",
       "2          Austria\n",
       "3         Pakistan\n",
       "4          germany\n",
       "          ...     \n",
       "290       Pakistan\n",
       "291            USA\n",
       "292    South Korea\n",
       "293       Pakistan\n",
       "294       pakistan\n",
       "Name: Country, Length: 295, dtype: category\n",
       "Categories (30, object): [' Germany', ' New Zealand', ' Sweden', ' USA', ..., 'UK', 'USA', 'germany', 'pakistan']"
      ]
     },
     "execution_count": 10,
     "metadata": {},
     "output_type": "execute_result"
    }
   ],
   "source": [
    "data_covid['Country']"
   ]
  },
  {
   "cell_type": "markdown",
   "metadata": {},
   "source": [
    "**SESSO**"
   ]
  },
  {
   "cell_type": "code",
   "execution_count": 11,
   "metadata": {},
   "outputs": [
    {
     "data": {
      "text/plain": [
       "0      M\n",
       "1      M\n",
       "2      M\n",
       "3      M\n",
       "4      M\n",
       "      ..\n",
       "290    M\n",
       "291    M\n",
       "292    M\n",
       "293    M\n",
       "294    M\n",
       "Name: SESSO, Length: 295, dtype: object"
      ]
     },
     "execution_count": 11,
     "metadata": {},
     "output_type": "execute_result"
    }
   ],
   "source": [
    "data_covid['SESSO']  #SESSO means Gender (Male and Female)"
   ]
  },
  {
   "cell_type": "code",
   "execution_count": 12,
   "metadata": {},
   "outputs": [],
   "source": [
    "data_covid['SESSO'] = data_covid['SESSO'].astype('category')"
   ]
  },
  {
   "cell_type": "code",
   "execution_count": 13,
   "metadata": {},
   "outputs": [
    {
     "data": {
      "text/plain": [
       "0      M\n",
       "1      M\n",
       "2      M\n",
       "3      M\n",
       "4      M\n",
       "      ..\n",
       "290    M\n",
       "291    M\n",
       "292    M\n",
       "293    M\n",
       "294    M\n",
       "Name: SESSO, Length: 295, dtype: category\n",
       "Categories (2, object): ['F', 'M']"
      ]
     },
     "execution_count": 13,
     "metadata": {},
     "output_type": "execute_result"
    }
   ],
   "source": [
    "data_covid['SESSO']"
   ]
  },
  {
   "cell_type": "code",
   "execution_count": 14,
   "metadata": {},
   "outputs": [
    {
     "data": {
      "text/plain": [
       "0      1\n",
       "1      1\n",
       "2      1\n",
       "3      1\n",
       "4      1\n",
       "      ..\n",
       "290    1\n",
       "291    1\n",
       "292    1\n",
       "293    1\n",
       "294    1\n",
       "Name: SESSO, Length: 295, dtype: int32"
      ]
     },
     "execution_count": 14,
     "metadata": {},
     "output_type": "execute_result"
    }
   ],
   "source": [
    "# Convert values of SESSO Column\n",
    "data_covid_New = pd.DataFrame()\n",
    "data_covid_New = data_covid.copy()\n",
    "data_covid_New['SESSO'] = np.where(data_covid['SESSO'] == 'M', 1, 0)\n",
    "data_covid_New['SESSO']"
   ]
  },
  {
   "cell_type": "markdown",
   "metadata": {},
   "source": [
    "**Linfociti**"
   ]
  },
  {
   "cell_type": "code",
   "execution_count": 15,
   "metadata": {},
   "outputs": [
    {
     "data": {
      "text/plain": [
       "0      0.8\n",
       "1      0.9\n",
       "2      NaN\n",
       "3      1.2\n",
       "4      NaN\n",
       "      ... \n",
       "290    0.4\n",
       "291    1.3\n",
       "292    0.6\n",
       "293    0.8\n",
       "294    0.6\n",
       "Name: Linfociti, Length: 295, dtype: object"
      ]
     },
     "execution_count": 15,
     "metadata": {},
     "output_type": "execute_result"
    }
   ],
   "source": [
    "data_covid_New['Linfociti']"
   ]
  },
  {
   "cell_type": "code",
   "execution_count": 16,
   "metadata": {},
   "outputs": [],
   "source": [
    "#data_covid_New['Linfociti'] = data_covid_New['Linfociti'].astype('float')\n",
    "#print error ----->>> ValueError: could not convert string to float: '0-4'"
   ]
  },
  {
   "cell_type": "code",
   "execution_count": 17,
   "metadata": {},
   "outputs": [
    {
     "data": {
      "text/plain": [
       "array(['0.8', '0.9', nan, '1.2', '0.4', '1.3', '0.6', '0.5', '1', '2.3',\n",
       "       '2.7', '0.7', '0.3', '0.2', '1.4', '1.1', '0-4', '1.5', '1.6',\n",
       "       '1.7', '2.4', '1.9', '2.2', '2', '2.9', '7.2', '3.3', '3.6', '1.8',\n",
       "       '4.1', '2.1', '3.1', '2.5', '3', '2.6'], dtype=object)"
      ]
     },
     "execution_count": 17,
     "metadata": {},
     "output_type": "execute_result"
    }
   ],
   "source": [
    "data_covid_New['Linfociti'].unique()  # for controlling error in any value"
   ]
  },
  {
   "cell_type": "code",
   "execution_count": 18,
   "metadata": {},
   "outputs": [],
   "source": [
    "index = data_covid_New[data_covid_New['Linfociti'] =='0-4'].index\n",
    "data_covid_New['Linfociti'][index] = 0.4"
   ]
  },
  {
   "cell_type": "code",
   "execution_count": 19,
   "metadata": {},
   "outputs": [],
   "source": [
    "data_covid_New['Linfociti'] = data_covid_New['Linfociti'].astype('float')"
   ]
  },
  {
   "cell_type": "code",
   "execution_count": 20,
   "metadata": {},
   "outputs": [
    {
     "name": "stdout",
     "output_type": "stream",
     "text": [
      "<class 'pandas.core.frame.DataFrame'>\n",
      "RangeIndex: 295 entries, 0 to 294\n",
      "Data columns (total 18 columns):\n",
      " #   Column      Non-Null Count  Dtype   \n",
      "---  ------      --------------  -----   \n",
      " 0   Country     295 non-null    category\n",
      " 1   date        295 non-null    object  \n",
      " 2   SESSO       295 non-null    int32   \n",
      " 3   AGE         295 non-null    int64   \n",
      " 4   WBC         293 non-null    float64 \n",
      " 5   Piastrine   293 non-null    float64 \n",
      " 6   Neutrofili  222 non-null    float64 \n",
      " 7   Linfociti   222 non-null    float64 \n",
      " 8   Monociti    222 non-null    float64 \n",
      " 9   Eosinofili  222 non-null    float64 \n",
      " 10  Basofili    220 non-null    float64 \n",
      " 11  PCR         286 non-null    float64 \n",
      " 12  AST         292 non-null    float64 \n",
      " 13  ALT         279 non-null    float64 \n",
      " 14  ALP         139 non-null    float64 \n",
      " 15  GGT         144 non-null    float64 \n",
      " 16  LDH         205 non-null    float64 \n",
      " 17  TARGET      295 non-null    int64   \n",
      "dtypes: category(1), float64(13), int32(1), int64(2), object(1)\n",
      "memory usage: 39.7+ KB\n"
     ]
    }
   ],
   "source": [
    "data_covid_New.info() #Review results"
   ]
  },
  {
   "cell_type": "markdown",
   "metadata": {},
   "source": [
    "# 6. Handling Duplicates"
   ]
  },
  {
   "cell_type": "markdown",
   "metadata": {},
   "source": [
    "### 🟣 Show duplicates"
   ]
  },
  {
   "cell_type": "code",
   "execution_count": 21,
   "metadata": {},
   "outputs": [
    {
     "data": {
      "text/plain": [
       "16"
      ]
     },
     "execution_count": 21,
     "metadata": {},
     "output_type": "execute_result"
    }
   ],
   "source": [
    "data_covid_New.duplicated().sum()"
   ]
  },
  {
   "cell_type": "markdown",
   "metadata": {},
   "source": [
    "### 🟣 Drop duplicates"
   ]
  },
  {
   "cell_type": "code",
   "execution_count": 22,
   "metadata": {},
   "outputs": [],
   "source": [
    "data_covid_New.drop_duplicates(inplace=True)"
   ]
  },
  {
   "cell_type": "code",
   "execution_count": 23,
   "metadata": {},
   "outputs": [
    {
     "name": "stdout",
     "output_type": "stream",
     "text": [
      "<class 'pandas.core.frame.DataFrame'>\n",
      "Int64Index: 279 entries, 0 to 278\n",
      "Data columns (total 18 columns):\n",
      " #   Column      Non-Null Count  Dtype   \n",
      "---  ------      --------------  -----   \n",
      " 0   Country     279 non-null    category\n",
      " 1   date        279 non-null    object  \n",
      " 2   SESSO       279 non-null    int32   \n",
      " 3   AGE         279 non-null    int64   \n",
      " 4   WBC         277 non-null    float64 \n",
      " 5   Piastrine   277 non-null    float64 \n",
      " 6   Neutrofili  209 non-null    float64 \n",
      " 7   Linfociti   209 non-null    float64 \n",
      " 8   Monociti    209 non-null    float64 \n",
      " 9   Eosinofili  209 non-null    float64 \n",
      " 10  Basofili    208 non-null    float64 \n",
      " 11  PCR         273 non-null    float64 \n",
      " 12  AST         277 non-null    float64 \n",
      " 13  ALT         266 non-null    float64 \n",
      " 14  ALP         131 non-null    float64 \n",
      " 15  GGT         136 non-null    float64 \n",
      " 16  LDH         194 non-null    float64 \n",
      " 17  TARGET      279 non-null    int64   \n",
      "dtypes: category(1), float64(13), int32(1), int64(2), object(1)\n",
      "memory usage: 39.7+ KB\n"
     ]
    }
   ],
   "source": [
    "data_covid_New.info()"
   ]
  },
  {
   "cell_type": "markdown",
   "metadata": {},
   "source": [
    "# 7. Handling Outliers"
   ]
  },
  {
   "cell_type": "markdown",
   "metadata": {},
   "source": [
    "### 🟣 BoxPlot\n",
    "\n",
    "<a><img src=\"box-plot.png\" alt=\"poxblot\" border=\"0\"></a>\n",
    "\n",
    "<a><img src=\"box-plot-construction.png\" alt=\"poxblot\" border=\"0\"></a>\n"
   ]
  },
  {
   "cell_type": "code",
   "execution_count": 24,
   "metadata": {},
   "outputs": [
    {
     "data": {
      "image/png": "[encoded data removed]",
      "text/plain": [
       "<Figure size 2000x800 with 1 Axes>"
      ]
     },
     "metadata": {},
     "output_type": "display_data"
    }
   ],
   "source": [
    "fig = plt.figure(figsize=(20, 8))\n",
    "sns.boxplot(data=data_covid_New)\n",
    "plt.show()"
   ]
  },
  {
   "cell_type": "code",
   "execution_count": 25,
   "metadata": {},
   "outputs": [
    {
     "data": {
      "image/png": "[encoded data removed]",
      "text/plain": [
       "<Figure size 1000x500 with 1 Axes>"
      ]
     },
     "metadata": {},
     "output_type": "display_data"
    }
   ],
   "source": [
    "fig = plt.figure(figsize=(10, 5))\n",
    "sns.boxplot(data=data_covid_New, x='TARGET', y='LDH')\n",
    "plt.show()"
   ]
  },
  {
   "cell_type": "markdown",
   "metadata": {},
   "source": [
    "### 🟣 **Remove the outliers**"
   ]
  },
  {
   "cell_type": "markdown",
   "metadata": {},
   "source": [
    "#### A: OUTLIERS Detection Function"
   ]
  },
  {
   "cell_type": "code",
   "execution_count": 26,
   "metadata": {},
   "outputs": [],
   "source": [
    "def outliers(df, Target, feature, T):\n",
    "    q1 = df[df[Target]==T][feature].quantile(0.25)\n",
    "    q3 = df[df[Target]==T][feature].quantile(0.75)\n",
    "    iqr = q3 - q1\n",
    "    ub = (q3+(1.5*iqr))\n",
    "    lb = (q1-(1.5*iqr))\n",
    "    return ub, lb"
   ]
  },
  {
   "cell_type": "code",
   "execution_count": 27,
   "metadata": {},
   "outputs": [],
   "source": [
    "def Upperb_Lowerb(df, Target, feature):\n",
    "    ubs=[]\n",
    "    lbs=[]\n",
    "    for T in range(len(df[Target].unique())):\n",
    "        ub , lb = outliers(df, Target, feature, T)\n",
    "        ubs.append(ub)\n",
    "        lbs.append(lb)\n",
    "    return ubs, lbs"
   ]
  },
  {
   "cell_type": "code",
   "execution_count": 28,
   "metadata": {},
   "outputs": [],
   "source": [
    "def boxplot(df, Target, feature):\n",
    "    fig = plt.figure(figsize=(10, 5))\n",
    "    ax = fig.add_axes([0,0,1,1])\n",
    "    sns.boxplot(ax=ax, data=df, x=Target, y=feature)\n",
    "    yu, yl = Upperb_Lowerb(df, Target, feature)\n",
    "    \n",
    "    ax.axhline(y=yu[0], color='b')\n",
    "    ax.axhline(y=yu[1], color = 'orange')\n",
    "    ax.axhline(y=yu[2], color='g')\n",
    "    \n",
    "    ax.axhline(y=yl[0], color='blue')\n",
    "    ax.axhline(y=yl[1], color = 'orange')\n",
    "    ax.axhline(y=yl[2], color='green')"
   ]
  },
  {
   "cell_type": "markdown",
   "metadata": {},
   "source": [
    "**Draw boxplot before dropping outliers!**"
   ]
  },
  {
   "cell_type": "code",
   "execution_count": 29,
   "metadata": {},
   "outputs": [
    {
     "data": {
      "image/png": "[encoded data removed]",
      "text/plain": [
       "<Figure size 1000x500 with 1 Axes>"
      ]
     },
     "metadata": {},
     "output_type": "display_data"
    }
   ],
   "source": [
    "boxplot(data_covid_New, \"TARGET\", \"LDH\")"
   ]
  },
  {
   "cell_type": "markdown",
   "metadata": {},
   "source": [
    "#### B: OUTLIERS Remove Function"
   ]
  },
  {
   "cell_type": "code",
   "execution_count": 30,
   "metadata": {},
   "outputs": [],
   "source": [
    "def drop_outliers(df, Target, feature):\n",
    "    ubs=[]\n",
    "    lbs=[]\n",
    "    ubs, lbs = Upperb_Lowerb(df, Target, feature)\n",
    "    for T in range(len(df[Target].unique())):\n",
    "        df = df.drop(index= df[df[Target]==T][feature][df[feature]>ubs[T]].index, axis=0)\n",
    "        df = df.drop(index= df[df[Target]==T][feature][df[feature]<lbs[T]].index, axis=0)\n",
    "    return df"
   ]
  },
  {
   "cell_type": "markdown",
   "metadata": {},
   "source": [
    "## LDH"
   ]
  },
  {
   "cell_type": "code",
   "execution_count": 31,
   "metadata": {},
   "outputs": [],
   "source": [
    "df = drop_outliers(data_covid_New, \"TARGET\", \"LDH\")"
   ]
  },
  {
   "cell_type": "code",
   "execution_count": 32,
   "metadata": {},
   "outputs": [
    {
     "data": {
      "image/png": "[encoded data removed]",
      "text/plain": [
       "<Figure size 1000x500 with 1 Axes>"
      ]
     },
     "metadata": {},
     "output_type": "display_data"
    }
   ],
   "source": [
    "# Show boxplot after dropping outliers. It's not necessary!. Only for checking removed outliers.\n",
    "boxplot(df, \"TARGET\", \"LDH\")"
   ]
  },
  {
   "cell_type": "markdown",
   "metadata": {},
   "source": [
    "## PCR"
   ]
  },
  {
   "cell_type": "code",
   "execution_count": 33,
   "metadata": {},
   "outputs": [
    {
     "data": {
      "image/png": "[encoded data removed]",
      "text/plain": [
       "<Figure size 1000x500 with 1 Axes>"
      ]
     },
     "metadata": {},
     "output_type": "display_data"
    },
    {
     "data": {
      "image/png": "[encoded data removed]",
      "text/plain": [
       "<Figure size 1000x500 with 1 Axes>"
      ]
     },
     "metadata": {},
     "output_type": "display_data"
    }
   ],
   "source": [
    "boxplot(df, \"TARGET\", \"PCR\")\n",
    "df = drop_outliers(df, \"TARGET\", \"PCR\")\n",
    "boxplot(df, \"TARGET\", \"PCR\")"
   ]
  },
  {
   "cell_type": "markdown",
   "metadata": {},
   "source": [
    "## AST"
   ]
  },
  {
   "cell_type": "code",
   "execution_count": 34,
   "metadata": {},
   "outputs": [
    {
     "data": {
      "image/png": "[encoded data removed]",
      "text/plain": [
       "<Figure size 1000x500 with 1 Axes>"
      ]
     },
     "metadata": {},
     "output_type": "display_data"
    }
   ],
   "source": [
    "boxplot(df, \"TARGET\", \"AST\")\n",
    "df = drop_outliers(df, \"TARGET\", \"AST\")"
   ]
  },
  {
   "cell_type": "code",
   "execution_count": 35,
   "metadata": {},
   "outputs": [
    {
     "data": {
      "image/png": "[encoded data removed]",
      "text/plain": [
       "<Figure size 1000x500 with 1 Axes>"
      ]
     },
     "metadata": {},
     "output_type": "display_data"
    }
   ],
   "source": [
    "boxplot(df, \"TARGET\", \"AST\")"
   ]
  },
  {
   "cell_type": "markdown",
   "metadata": {},
   "source": [
    "## ALT"
   ]
  },
  {
   "cell_type": "code",
   "execution_count": 36,
   "metadata": {},
   "outputs": [
    {
     "data": {
      "image/png": "[encoded data removed]",
      "text/plain": [
       "<Figure size 1000x500 with 1 Axes>"
      ]
     },
     "metadata": {},
     "output_type": "display_data"
    },
    {
     "data": {
      "image/png": "[encoded data removed]",
      "text/plain": [
       "<Figure size 1000x500 with 1 Axes>"
      ]
     },
     "metadata": {},
     "output_type": "display_data"
    }
   ],
   "source": [
    "boxplot(df, \"TARGET\", \"ALT\")\n",
    "df = drop_outliers(df, \"TARGET\", \"ALT\")\n",
    "boxplot(df, \"TARGET\", \"ALT\")"
   ]
  },
  {
   "cell_type": "markdown",
   "metadata": {},
   "source": [
    "## Linfociti"
   ]
  },
  {
   "cell_type": "code",
   "execution_count": 37,
   "metadata": {},
   "outputs": [
    {
     "data": {
      "image/png": "[encoded data removed]",
      "text/plain": [
       "<Figure size 1000x500 with 1 Axes>"
      ]
     },
     "metadata": {},
     "output_type": "display_data"
    },
    {
     "data": {
      "image/png": "[encoded data removed]",
      "text/plain": [
       "<Figure size 1000x500 with 1 Axes>"
      ]
     },
     "metadata": {},
     "output_type": "display_data"
    }
   ],
   "source": [
    "boxplot(df, \"TARGET\", \"Linfociti\")\n",
    "df = drop_outliers(df, \"TARGET\", \"Linfociti\")\n",
    "boxplot(df, \"TARGET\", \"Linfociti\")"
   ]
  },
  {
   "cell_type": "code",
   "execution_count": 38,
   "metadata": {},
   "outputs": [
    {
     "name": "stdout",
     "output_type": "stream",
     "text": [
      "<class 'pandas.core.frame.DataFrame'>\n",
      "Int64Index: 210 entries, 0 to 278\n",
      "Data columns (total 18 columns):\n",
      " #   Column      Non-Null Count  Dtype   \n",
      "---  ------      --------------  -----   \n",
      " 0   Country     210 non-null    category\n",
      " 1   date        210 non-null    object  \n",
      " 2   SESSO       210 non-null    int32   \n",
      " 3   AGE         210 non-null    int64   \n",
      " 4   WBC         208 non-null    float64 \n",
      " 5   Piastrine   208 non-null    float64 \n",
      " 6   Neutrofili  151 non-null    float64 \n",
      " 7   Linfociti   151 non-null    float64 \n",
      " 8   Monociti    151 non-null    float64 \n",
      " 9   Eosinofili  152 non-null    float64 \n",
      " 10  Basofili    151 non-null    float64 \n",
      " 11  PCR         204 non-null    float64 \n",
      " 12  AST         208 non-null    float64 \n",
      " 13  ALT         201 non-null    float64 \n",
      " 14  ALP         95 non-null     float64 \n",
      " 15  GGT         100 non-null    float64 \n",
      " 16  LDH         142 non-null    float64 \n",
      " 17  TARGET      210 non-null    int64   \n",
      "dtypes: category(1), float64(13), int32(1), int64(2), object(1)\n",
      "memory usage: 30.2+ KB\n"
     ]
    }
   ],
   "source": [
    "df.info()"
   ]
  },
  {
   "cell_type": "code",
   "execution_count": 39,
   "metadata": {},
   "outputs": [],
   "source": [
    "df = drop_outliers(df, \"TARGET\", \"WBC\")\n",
    "df = drop_outliers(df, \"TARGET\", \"Piastrine\")\n",
    "df = drop_outliers(df, \"TARGET\", \"Neutrofili\")\n",
    "df = drop_outliers(df, \"TARGET\", \"Monociti\")\n",
    "df = drop_outliers(df, \"TARGET\", \"Eosinofili\")\n",
    "df = drop_outliers(df, \"TARGET\", \"Basofili\")\n",
    "df = drop_outliers(df, \"TARGET\", \"ALP\")\n",
    "df = drop_outliers(df, \"TARGET\", \"GGT\")"
   ]
  },
  {
   "cell_type": "code",
   "execution_count": 40,
   "metadata": {},
   "outputs": [
    {
     "name": "stdout",
     "output_type": "stream",
     "text": [
      "<class 'pandas.core.frame.DataFrame'>\n",
      "Int64Index: 154 entries, 0 to 276\n",
      "Data columns (total 18 columns):\n",
      " #   Column      Non-Null Count  Dtype   \n",
      "---  ------      --------------  -----   \n",
      " 0   Country     154 non-null    category\n",
      " 1   date        154 non-null    object  \n",
      " 2   SESSO       154 non-null    int32   \n",
      " 3   AGE         154 non-null    int64   \n",
      " 4   WBC         152 non-null    float64 \n",
      " 5   Piastrine   152 non-null    float64 \n",
      " 6   Neutrofili  101 non-null    float64 \n",
      " 7   Linfociti   101 non-null    float64 \n",
      " 8   Monociti    101 non-null    float64 \n",
      " 9   Eosinofili  102 non-null    float64 \n",
      " 10  Basofili    102 non-null    float64 \n",
      " 11  PCR         149 non-null    float64 \n",
      " 12  AST         152 non-null    float64 \n",
      " 13  ALT         149 non-null    float64 \n",
      " 14  ALP         63 non-null     float64 \n",
      " 15  GGT         72 non-null     float64 \n",
      " 16  LDH         100 non-null    float64 \n",
      " 17  TARGET      154 non-null    int64   \n",
      "dtypes: category(1), float64(13), int32(1), int64(2), object(1)\n",
      "memory usage: 22.5+ KB\n"
     ]
    }
   ],
   "source": [
    "df.info()"
   ]
  },
  {
   "cell_type": "code",
   "execution_count": 41,
   "metadata": {},
   "outputs": [
    {
     "data": {
      "text/html": [
       "<div>\n",
       "<style scoped>\n",
       "    .dataframe tbody tr th:only-of-type {\n",
       "        vertical-align: middle;\n",
       "    }\n",
       "\n",
       "    .dataframe tbody tr th {\n",
       "        vertical-align: top;\n",
       "    }\n",
       "\n",
       "    .dataframe thead th {\n",
       "        text-align: right;\n",
       "    }\n",
       "</style>\n",
       "<table border=\"1\" class=\"dataframe\">\n",
       "  <thead>\n",
       "    <tr style=\"text-align: right;\">\n",
       "      <th></th>\n",
       "      <th>TARGET</th>\n",
       "    </tr>\n",
       "  </thead>\n",
       "  <tbody>\n",
       "    <tr>\n",
       "      <th>TARGET</th>\n",
       "      <td>1.000000</td>\n",
       "    </tr>\n",
       "    <tr>\n",
       "      <th>AST</th>\n",
       "      <td>0.548472</td>\n",
       "    </tr>\n",
       "    <tr>\n",
       "      <th>LDH</th>\n",
       "      <td>0.501984</td>\n",
       "    </tr>\n",
       "    <tr>\n",
       "      <th>PCR</th>\n",
       "      <td>0.474596</td>\n",
       "    </tr>\n",
       "    <tr>\n",
       "      <th>ALT</th>\n",
       "      <td>0.311857</td>\n",
       "    </tr>\n",
       "    <tr>\n",
       "      <th>SESSO</th>\n",
       "      <td>0.309376</td>\n",
       "    </tr>\n",
       "    <tr>\n",
       "      <th>GGT</th>\n",
       "      <td>0.286582</td>\n",
       "    </tr>\n",
       "    <tr>\n",
       "      <th>Neutrofili</th>\n",
       "      <td>0.216322</td>\n",
       "    </tr>\n",
       "    <tr>\n",
       "      <th>AGE</th>\n",
       "      <td>0.137151</td>\n",
       "    </tr>\n",
       "    <tr>\n",
       "      <th>ALP</th>\n",
       "      <td>0.038359</td>\n",
       "    </tr>\n",
       "    <tr>\n",
       "      <th>WBC</th>\n",
       "      <td>-0.015705</td>\n",
       "    </tr>\n",
       "    <tr>\n",
       "      <th>Piastrine</th>\n",
       "      <td>-0.128916</td>\n",
       "    </tr>\n",
       "    <tr>\n",
       "      <th>Monociti</th>\n",
       "      <td>-0.179590</td>\n",
       "    </tr>\n",
       "    <tr>\n",
       "      <th>Linfociti</th>\n",
       "      <td>-0.387433</td>\n",
       "    </tr>\n",
       "    <tr>\n",
       "      <th>Eosinofili</th>\n",
       "      <td>-0.441442</td>\n",
       "    </tr>\n",
       "    <tr>\n",
       "      <th>Basofili</th>\n",
       "      <td>NaN</td>\n",
       "    </tr>\n",
       "  </tbody>\n",
       "</table>\n",
       "</div>"
      ],
      "text/plain": [
       "              TARGET\n",
       "TARGET      1.000000\n",
       "AST         0.548472\n",
       "LDH         0.501984\n",
       "PCR         0.474596\n",
       "ALT         0.311857\n",
       "SESSO       0.309376\n",
       "GGT         0.286582\n",
       "Neutrofili  0.216322\n",
       "AGE         0.137151\n",
       "ALP         0.038359\n",
       "WBC        -0.015705\n",
       "Piastrine  -0.128916\n",
       "Monociti   -0.179590\n",
       "Linfociti  -0.387433\n",
       "Eosinofili -0.441442\n",
       "Basofili         NaN"
      ]
     },
     "execution_count": 41,
     "metadata": {},
     "output_type": "execute_result"
    }
   ],
   "source": [
    "df.corr()[['TARGET']].sort_values('TARGET', ascending=False)"
   ]
  },
  {
   "cell_type": "markdown",
   "metadata": {},
   "source": [
    "# 8. Handling Missing Values (Fill/Keep/Drop?)"
   ]
  },
  {
   "cell_type": "code",
   "execution_count": 42,
   "metadata": {},
   "outputs": [
    {
     "data": {
      "text/html": [
       "<div>\n",
       "<style scoped>\n",
       "    .dataframe tbody tr th:only-of-type {\n",
       "        vertical-align: middle;\n",
       "    }\n",
       "\n",
       "    .dataframe tbody tr th {\n",
       "        vertical-align: top;\n",
       "    }\n",
       "\n",
       "    .dataframe thead th {\n",
       "        text-align: right;\n",
       "    }\n",
       "</style>\n",
       "<table border=\"1\" class=\"dataframe\">\n",
       "  <thead>\n",
       "    <tr style=\"text-align: right;\">\n",
       "      <th></th>\n",
       "      <th>Country</th>\n",
       "      <th>date</th>\n",
       "      <th>SESSO</th>\n",
       "      <th>AGE</th>\n",
       "      <th>WBC</th>\n",
       "      <th>Piastrine</th>\n",
       "      <th>Neutrofili</th>\n",
       "      <th>Linfociti</th>\n",
       "      <th>Monociti</th>\n",
       "      <th>Eosinofili</th>\n",
       "      <th>Basofili</th>\n",
       "      <th>PCR</th>\n",
       "      <th>AST</th>\n",
       "      <th>ALT</th>\n",
       "      <th>ALP</th>\n",
       "      <th>GGT</th>\n",
       "      <th>LDH</th>\n",
       "      <th>TARGET</th>\n",
       "    </tr>\n",
       "  </thead>\n",
       "  <tbody>\n",
       "    <tr>\n",
       "      <th>0</th>\n",
       "      <td>Canada</td>\n",
       "      <td>3/2/07</td>\n",
       "      <td>1</td>\n",
       "      <td>56</td>\n",
       "      <td>2.9</td>\n",
       "      <td>128.0</td>\n",
       "      <td>1.9</td>\n",
       "      <td>0.8</td>\n",
       "      <td>0.2</td>\n",
       "      <td>0.0</td>\n",
       "      <td>0.0</td>\n",
       "      <td>29.0</td>\n",
       "      <td>36.0</td>\n",
       "      <td>18.0</td>\n",
       "      <td>43.0</td>\n",
       "      <td>21.0</td>\n",
       "      <td>257.0</td>\n",
       "      <td>2</td>\n",
       "    </tr>\n",
       "    <tr>\n",
       "      <th>1</th>\n",
       "      <td>USA</td>\n",
       "      <td>3/22/07</td>\n",
       "      <td>1</td>\n",
       "      <td>56</td>\n",
       "      <td>3.5</td>\n",
       "      <td>151.0</td>\n",
       "      <td>2.1</td>\n",
       "      <td>0.9</td>\n",
       "      <td>0.4</td>\n",
       "      <td>0.0</td>\n",
       "      <td>0.0</td>\n",
       "      <td>16.5</td>\n",
       "      <td>25.0</td>\n",
       "      <td>14.0</td>\n",
       "      <td>50.0</td>\n",
       "      <td>17.0</td>\n",
       "      <td>207.0</td>\n",
       "      <td>2</td>\n",
       "    </tr>\n",
       "    <tr>\n",
       "      <th>2</th>\n",
       "      <td>Austria</td>\n",
       "      <td>4/6/07</td>\n",
       "      <td>1</td>\n",
       "      <td>72</td>\n",
       "      <td>4.6</td>\n",
       "      <td>206.0</td>\n",
       "      <td>NaN</td>\n",
       "      <td>NaN</td>\n",
       "      <td>NaN</td>\n",
       "      <td>NaN</td>\n",
       "      <td>NaN</td>\n",
       "      <td>193.7</td>\n",
       "      <td>31.0</td>\n",
       "      <td>22.0</td>\n",
       "      <td>NaN</td>\n",
       "      <td>NaN</td>\n",
       "      <td>NaN</td>\n",
       "      <td>2</td>\n",
       "    </tr>\n",
       "    <tr>\n",
       "      <th>3</th>\n",
       "      <td>Pakistan</td>\n",
       "      <td>4/14/07</td>\n",
       "      <td>1</td>\n",
       "      <td>72</td>\n",
       "      <td>16.5</td>\n",
       "      <td>316.0</td>\n",
       "      <td>14.0</td>\n",
       "      <td>1.2</td>\n",
       "      <td>0.3</td>\n",
       "      <td>0.0</td>\n",
       "      <td>0.0</td>\n",
       "      <td>318.7</td>\n",
       "      <td>96.0</td>\n",
       "      <td>33.0</td>\n",
       "      <td>80.0</td>\n",
       "      <td>42.0</td>\n",
       "      <td>651.0</td>\n",
       "      <td>2</td>\n",
       "    </tr>\n",
       "    <tr>\n",
       "      <th>4</th>\n",
       "      <td>germany</td>\n",
       "      <td>4/15/07</td>\n",
       "      <td>1</td>\n",
       "      <td>77</td>\n",
       "      <td>4.9</td>\n",
       "      <td>198.0</td>\n",
       "      <td>NaN</td>\n",
       "      <td>NaN</td>\n",
       "      <td>NaN</td>\n",
       "      <td>NaN</td>\n",
       "      <td>NaN</td>\n",
       "      <td>NaN</td>\n",
       "      <td>NaN</td>\n",
       "      <td>NaN</td>\n",
       "      <td>NaN</td>\n",
       "      <td>NaN</td>\n",
       "      <td>NaN</td>\n",
       "      <td>2</td>\n",
       "    </tr>\n",
       "  </tbody>\n",
       "</table>\n",
       "</div>"
      ],
      "text/plain": [
       "    Country     date  SESSO  AGE   WBC  Piastrine  Neutrofili  Linfociti  \\\n",
       "0    Canada   3/2/07      1   56   2.9      128.0         1.9        0.8   \n",
       "1       USA  3/22/07      1   56   3.5      151.0         2.1        0.9   \n",
       "2   Austria   4/6/07      1   72   4.6      206.0         NaN        NaN   \n",
       "3  Pakistan  4/14/07      1   72  16.5      316.0        14.0        1.2   \n",
       "4   germany  4/15/07      1   77   4.9      198.0         NaN        NaN   \n",
       "\n",
       "   Monociti  Eosinofili  Basofili    PCR   AST   ALT   ALP   GGT    LDH  \\\n",
       "0       0.2         0.0       0.0   29.0  36.0  18.0  43.0  21.0  257.0   \n",
       "1       0.4         0.0       0.0   16.5  25.0  14.0  50.0  17.0  207.0   \n",
       "2       NaN         NaN       NaN  193.7  31.0  22.0   NaN   NaN    NaN   \n",
       "3       0.3         0.0       0.0  318.7  96.0  33.0  80.0  42.0  651.0   \n",
       "4       NaN         NaN       NaN    NaN   NaN   NaN   NaN   NaN    NaN   \n",
       "\n",
       "   TARGET  \n",
       "0       2  \n",
       "1       2  \n",
       "2       2  \n",
       "3       2  \n",
       "4       2  "
      ]
     },
     "execution_count": 42,
     "metadata": {},
     "output_type": "execute_result"
    }
   ],
   "source": [
    "df.head()"
   ]
  },
  {
   "cell_type": "markdown",
   "metadata": {},
   "source": [
    "### A. How Much Data is Missing?"
   ]
  },
  {
   "cell_type": "code",
   "execution_count": 43,
   "metadata": {},
   "outputs": [
    {
     "data": {
      "text/plain": [
       "Country        0\n",
       "date           0\n",
       "SESSO          0\n",
       "AGE            0\n",
       "WBC            2\n",
       "Piastrine      2\n",
       "Neutrofili    53\n",
       "Linfociti     53\n",
       "Monociti      53\n",
       "Eosinofili    52\n",
       "Basofili      52\n",
       "PCR            5\n",
       "AST            2\n",
       "ALT            5\n",
       "ALP           91\n",
       "GGT           82\n",
       "LDH           54\n",
       "TARGET         0\n",
       "dtype: int64"
      ]
     },
     "execution_count": 43,
     "metadata": {},
     "output_type": "execute_result"
    }
   ],
   "source": [
    "df.isnull().sum()"
   ]
  },
  {
   "cell_type": "markdown",
   "metadata": {},
   "source": [
    "### Make a Function to calculate the percent of missing data in each columns (features) and then sort it"
   ]
  },
  {
   "cell_type": "code",
   "execution_count": 44,
   "metadata": {},
   "outputs": [],
   "source": [
    "def missing_percentage(df):\n",
    "    nan_per = 100*(df.isnull().sum()/len(df))\n",
    "    nan_per = nan_per[nan_per>0].sort_values()\n",
    "    return nan_per"
   ]
  },
  {
   "cell_type": "code",
   "execution_count": 45,
   "metadata": {},
   "outputs": [
    {
     "data": {
      "text/plain": [
       "WBC            1.298701\n",
       "Piastrine      1.298701\n",
       "AST            1.298701\n",
       "PCR            3.246753\n",
       "ALT            3.246753\n",
       "Eosinofili    33.766234\n",
       "Basofili      33.766234\n",
       "Neutrofili    34.415584\n",
       "Linfociti     34.415584\n",
       "Monociti      34.415584\n",
       "LDH           35.064935\n",
       "GGT           53.246753\n",
       "ALP           59.090909\n",
       "dtype: float64"
      ]
     },
     "execution_count": 45,
     "metadata": {},
     "output_type": "execute_result"
    }
   ],
   "source": [
    "nan_per = missing_percentage(df)\n",
    "nan_per"
   ]
  },
  {
   "cell_type": "markdown",
   "metadata": {},
   "source": [
    "### Plot the feature with missing indicating the percent of missing data:"
   ]
  },
  {
   "cell_type": "code",
   "execution_count": 46,
   "metadata": {},
   "outputs": [],
   "source": [
    "#Function for drawing barplot\n",
    "def plot(df):\n",
    "    nan_per = missing_percentage(df)\n",
    "    plt.figure(figsize=(14, 5))\n",
    "    sns.barplot(x=nan_per.index, y=nan_per)"
   ]
  },
  {
   "cell_type": "code",
   "execution_count": 47,
   "metadata": {},
   "outputs": [
    {
     "data": {
      "image/png": "[encoded data removed]",
      "text/plain": [
       "<Figure size 1400x500 with 1 Axes>"
      ]
     },
     "metadata": {},
     "output_type": "display_data"
    }
   ],
   "source": [
    "plot(df)"
   ]
  },
  {
   "cell_type": "markdown",
   "metadata": {},
   "source": [
    "## B. Working base on Rows Missing Data"
   ]
  },
  {
   "cell_type": "markdown",
   "metadata": {},
   "source": [
    "**If only a few rows are missing some values, then it might just be a good idea to drop those rows.** \n",
    "\n",
    "**What does this cost you in terms of performace? It essentialy removes potential training/testing data, but if its only a few rows, its unlikely to change performance.**"
   ]
  },
  {
   "cell_type": "markdown",
   "metadata": {},
   "source": [
    "**Every Feature with missing data must be checked!**\n",
    "\n",
    "**We choose a threshold of 1%. It means, if there is less than 1% of a feature are missing,then we will consider just dropping that rows**"
   ]
  },
  {
   "cell_type": "markdown",
   "metadata": {},
   "source": [
    "### Dropping Rows with less than 1% missing values:"
   ]
  },
  {
   "cell_type": "code",
   "execution_count": 48,
   "metadata": {},
   "outputs": [
    {
     "data": {
      "text/plain": [
       "Series([], dtype: float64)"
      ]
     },
     "execution_count": 48,
     "metadata": {},
     "output_type": "execute_result"
    }
   ],
   "source": [
    "nan_per[nan_per<1]"
   ]
  },
  {
   "cell_type": "markdown",
   "metadata": {},
   "source": [
    "**Result:**"
   ]
  },
  {
   "cell_type": "markdown",
   "metadata": {},
   "source": [
    "**No column includes this condition!\n",
    "If the columns have that condition, use the code below to drop the rows:**\n",
    "#### df= df.dropna(axis=0, subset=['column1', 'column2'])"
   ]
  },
  {
   "cell_type": "markdown",
   "metadata": {},
   "source": [
    "## C. Working based on Columns Missing Data"
   ]
  },
  {
   "cell_type": "markdown",
   "metadata": {},
   "source": [
    "## filling the Columns with less than 10% missing values using mean values"
   ]
  },
  {
   "cell_type": "code",
   "execution_count": 49,
   "metadata": {},
   "outputs": [
    {
     "data": {
      "text/plain": [
       "WBC          1.298701\n",
       "Piastrine    1.298701\n",
       "AST          1.298701\n",
       "PCR          3.246753\n",
       "ALT          3.246753\n",
       "dtype: float64"
      ]
     },
     "execution_count": 49,
     "metadata": {},
     "output_type": "execute_result"
    }
   ],
   "source": [
    "nan_per = missing_percentage(df)\n",
    "nan_per[nan_per<10]"
   ]
  },
  {
   "cell_type": "code",
   "execution_count": 50,
   "metadata": {},
   "outputs": [],
   "source": [
    "df['WBC'] = df['WBC'].fillna(df['WBC'].mean())"
   ]
  },
  {
   "cell_type": "code",
   "execution_count": 51,
   "metadata": {},
   "outputs": [],
   "source": [
    "df['Piastrine'] = df['Piastrine'].fillna(df['Piastrine'].mean())"
   ]
  },
  {
   "cell_type": "code",
   "execution_count": 52,
   "metadata": {},
   "outputs": [],
   "source": [
    "df['AST'] = df['AST'].fillna(df['AST'].mean())"
   ]
  },
  {
   "cell_type": "code",
   "execution_count": 53,
   "metadata": {},
   "outputs": [],
   "source": [
    "df['PCR'] = df['PCR'].fillna(df['PCR'].mean())"
   ]
  },
  {
   "cell_type": "code",
   "execution_count": 54,
   "metadata": {},
   "outputs": [],
   "source": [
    "df['ALT'] = df['ALT'].fillna(df['ALT'].mean())"
   ]
  },
  {
   "cell_type": "code",
   "execution_count": 55,
   "metadata": {},
   "outputs": [
    {
     "data": {
      "text/plain": [
       "Eosinofili    33.766234\n",
       "Basofili      33.766234\n",
       "Neutrofili    34.415584\n",
       "Linfociti     34.415584\n",
       "Monociti      34.415584\n",
       "LDH           35.064935\n",
       "GGT           53.246753\n",
       "ALP           59.090909\n",
       "dtype: float64"
      ]
     },
     "execution_count": 55,
     "metadata": {},
     "output_type": "execute_result"
    }
   ],
   "source": [
    "missing_percentage(df)"
   ]
  },
  {
   "cell_type": "markdown",
   "metadata": {},
   "source": [
    "## Remove the Columns with more than 50% missing values"
   ]
  },
  {
   "cell_type": "markdown",
   "metadata": {},
   "source": [
    "### GGT"
   ]
  },
  {
   "cell_type": "code",
   "execution_count": 56,
   "metadata": {},
   "outputs": [],
   "source": [
    "df = df.drop('GGT', axis=1)"
   ]
  },
  {
   "cell_type": "markdown",
   "metadata": {},
   "source": [
    "### ALP"
   ]
  },
  {
   "cell_type": "code",
   "execution_count": 57,
   "metadata": {},
   "outputs": [],
   "source": [
    "df = df.drop('ALP', axis=1)"
   ]
  },
  {
   "cell_type": "code",
   "execution_count": 58,
   "metadata": {},
   "outputs": [
    {
     "data": {
      "text/plain": [
       "Eosinofili    33.766234\n",
       "Basofili      33.766234\n",
       "Neutrofili    34.415584\n",
       "Linfociti     34.415584\n",
       "Monociti      34.415584\n",
       "LDH           35.064935\n",
       "dtype: float64"
      ]
     },
     "execution_count": 58,
     "metadata": {},
     "output_type": "execute_result"
    }
   ],
   "source": [
    "missing_percentage(df)"
   ]
  },
  {
   "cell_type": "markdown",
   "metadata": {},
   "source": [
    "### PLOT"
   ]
  },
  {
   "cell_type": "code",
   "execution_count": 59,
   "metadata": {},
   "outputs": [
    {
     "data": {
      "image/png": "[encoded data removed]",
      "text/plain": [
       "<Figure size 1400x500 with 1 Axes>"
      ]
     },
     "metadata": {},
     "output_type": "display_data"
    }
   ],
   "source": [
    "plot(df)"
   ]
  },
  {
   "cell_type": "markdown",
   "metadata": {},
   "source": [
    "## D. Imputation of Missing Data"
   ]
  },
  {
   "cell_type": "markdown",
   "metadata": {},
   "source": [
    "## What are the Stages of Life?\n",
    "\n",
    "- Infant = 0-1 year.\n",
    "- Toddler = 2-4 yrs.\n",
    "- Child = 5-12 yrs.\n",
    "- Teen = 13-19 yrs.\n",
    "- Adult = 20-39 yrs.\n",
    "- Middle Age Adult = 40-59 yrs.\n",
    "- Senior Adult = 60+"
   ]
  },
  {
   "cell_type": "code",
   "execution_count": 60,
   "metadata": {},
   "outputs": [
    {
     "data": {
      "text/plain": [
       "array([ 0, 18, 23, 28, 29, 30, 32, 34, 36, 37, 38, 39, 40, 41, 44, 45, 46,\n",
       "       47, 48, 49, 51, 52, 53, 54, 55, 56, 57, 58, 60, 61, 62, 63, 64, 65,\n",
       "       66, 67, 68, 69, 70, 71, 72, 74, 75, 76, 77, 79, 80, 81, 82, 84, 85,\n",
       "       87, 89, 91, 93, 94, 95], dtype=int64)"
      ]
     },
     "execution_count": 60,
     "metadata": {},
     "output_type": "execute_result"
    }
   ],
   "source": [
    "np.sort(df['AGE'].unique())"
   ]
  },
  {
   "cell_type": "code",
   "execution_count": 61,
   "metadata": {},
   "outputs": [],
   "source": [
    "def ageGroup(age):  \n",
    "    if(age>=0 and age<=19):\n",
    "        return 'Teen'\n",
    "    elif(age>19 and age<=39):\n",
    "        return 'Adult'\n",
    "    elif(age>39 and age<=59):\n",
    "        return 'Middle Age Adult'\n",
    "    elif(age>=60):\n",
    "        return 'Senior Adult'"
   ]
  },
  {
   "cell_type": "code",
   "execution_count": 62,
   "metadata": {},
   "outputs": [],
   "source": [
    "df['AgeGroups'] = df['AGE'].apply(ageGroup)"
   ]
  },
  {
   "cell_type": "code",
   "execution_count": 63,
   "metadata": {},
   "outputs": [
    {
     "data": {
      "text/plain": [
       "0      Middle Age Adult\n",
       "1      Middle Age Adult\n",
       "2          Senior Adult\n",
       "3          Senior Adult\n",
       "4          Senior Adult\n",
       "             ...       \n",
       "271               Adult\n",
       "272        Senior Adult\n",
       "273               Adult\n",
       "274    Middle Age Adult\n",
       "276    Middle Age Adult\n",
       "Name: AgeGroups, Length: 154, dtype: object"
      ]
     },
     "execution_count": 63,
     "metadata": {},
     "output_type": "execute_result"
    }
   ],
   "source": [
    "df['AgeGroups']"
   ]
  },
  {
   "cell_type": "code",
   "execution_count": 64,
   "metadata": {},
   "outputs": [
    {
     "data": {
      "text/html": [
       "<div>\n",
       "<style scoped>\n",
       "    .dataframe tbody tr th:only-of-type {\n",
       "        vertical-align: middle;\n",
       "    }\n",
       "\n",
       "    .dataframe tbody tr th {\n",
       "        vertical-align: top;\n",
       "    }\n",
       "\n",
       "    .dataframe thead th {\n",
       "        text-align: right;\n",
       "    }\n",
       "</style>\n",
       "<table border=\"1\" class=\"dataframe\">\n",
       "  <thead>\n",
       "    <tr style=\"text-align: right;\">\n",
       "      <th></th>\n",
       "      <th>Country</th>\n",
       "      <th>date</th>\n",
       "      <th>SESSO</th>\n",
       "      <th>AGE</th>\n",
       "      <th>WBC</th>\n",
       "      <th>Piastrine</th>\n",
       "      <th>Neutrofili</th>\n",
       "      <th>Linfociti</th>\n",
       "      <th>Monociti</th>\n",
       "      <th>Eosinofili</th>\n",
       "      <th>Basofili</th>\n",
       "      <th>PCR</th>\n",
       "      <th>AST</th>\n",
       "      <th>ALT</th>\n",
       "      <th>LDH</th>\n",
       "      <th>TARGET</th>\n",
       "      <th>AgeGroups</th>\n",
       "    </tr>\n",
       "  </thead>\n",
       "  <tbody>\n",
       "    <tr>\n",
       "      <th>0</th>\n",
       "      <td>Canada</td>\n",
       "      <td>3/2/07</td>\n",
       "      <td>1</td>\n",
       "      <td>56</td>\n",
       "      <td>2.9</td>\n",
       "      <td>128.0</td>\n",
       "      <td>1.9</td>\n",
       "      <td>0.8</td>\n",
       "      <td>0.2</td>\n",
       "      <td>0.0</td>\n",
       "      <td>0.0</td>\n",
       "      <td>29.000000</td>\n",
       "      <td>36.000000</td>\n",
       "      <td>18.000000</td>\n",
       "      <td>257.0</td>\n",
       "      <td>2</td>\n",
       "      <td>Middle Age Adult</td>\n",
       "    </tr>\n",
       "    <tr>\n",
       "      <th>1</th>\n",
       "      <td>USA</td>\n",
       "      <td>3/22/07</td>\n",
       "      <td>1</td>\n",
       "      <td>56</td>\n",
       "      <td>3.5</td>\n",
       "      <td>151.0</td>\n",
       "      <td>2.1</td>\n",
       "      <td>0.9</td>\n",
       "      <td>0.4</td>\n",
       "      <td>0.0</td>\n",
       "      <td>0.0</td>\n",
       "      <td>16.500000</td>\n",
       "      <td>25.000000</td>\n",
       "      <td>14.000000</td>\n",
       "      <td>207.0</td>\n",
       "      <td>2</td>\n",
       "      <td>Middle Age Adult</td>\n",
       "    </tr>\n",
       "    <tr>\n",
       "      <th>2</th>\n",
       "      <td>Austria</td>\n",
       "      <td>4/6/07</td>\n",
       "      <td>1</td>\n",
       "      <td>72</td>\n",
       "      <td>4.6</td>\n",
       "      <td>206.0</td>\n",
       "      <td>NaN</td>\n",
       "      <td>NaN</td>\n",
       "      <td>NaN</td>\n",
       "      <td>NaN</td>\n",
       "      <td>NaN</td>\n",
       "      <td>193.700000</td>\n",
       "      <td>31.000000</td>\n",
       "      <td>22.000000</td>\n",
       "      <td>NaN</td>\n",
       "      <td>2</td>\n",
       "      <td>Senior Adult</td>\n",
       "    </tr>\n",
       "    <tr>\n",
       "      <th>3</th>\n",
       "      <td>Pakistan</td>\n",
       "      <td>4/14/07</td>\n",
       "      <td>1</td>\n",
       "      <td>72</td>\n",
       "      <td>16.5</td>\n",
       "      <td>316.0</td>\n",
       "      <td>14.0</td>\n",
       "      <td>1.2</td>\n",
       "      <td>0.3</td>\n",
       "      <td>0.0</td>\n",
       "      <td>0.0</td>\n",
       "      <td>318.700000</td>\n",
       "      <td>96.000000</td>\n",
       "      <td>33.000000</td>\n",
       "      <td>651.0</td>\n",
       "      <td>2</td>\n",
       "      <td>Senior Adult</td>\n",
       "    </tr>\n",
       "    <tr>\n",
       "      <th>4</th>\n",
       "      <td>germany</td>\n",
       "      <td>4/15/07</td>\n",
       "      <td>1</td>\n",
       "      <td>77</td>\n",
       "      <td>4.9</td>\n",
       "      <td>198.0</td>\n",
       "      <td>NaN</td>\n",
       "      <td>NaN</td>\n",
       "      <td>NaN</td>\n",
       "      <td>NaN</td>\n",
       "      <td>NaN</td>\n",
       "      <td>76.043624</td>\n",
       "      <td>39.078947</td>\n",
       "      <td>30.845638</td>\n",
       "      <td>NaN</td>\n",
       "      <td>2</td>\n",
       "      <td>Senior Adult</td>\n",
       "    </tr>\n",
       "    <tr>\n",
       "      <th>...</th>\n",
       "      <td>...</td>\n",
       "      <td>...</td>\n",
       "      <td>...</td>\n",
       "      <td>...</td>\n",
       "      <td>...</td>\n",
       "      <td>...</td>\n",
       "      <td>...</td>\n",
       "      <td>...</td>\n",
       "      <td>...</td>\n",
       "      <td>...</td>\n",
       "      <td>...</td>\n",
       "      <td>...</td>\n",
       "      <td>...</td>\n",
       "      <td>...</td>\n",
       "      <td>...</td>\n",
       "      <td>...</td>\n",
       "      <td>...</td>\n",
       "    </tr>\n",
       "    <tr>\n",
       "      <th>271</th>\n",
       "      <td>USA</td>\n",
       "      <td>3/13/10</td>\n",
       "      <td>0</td>\n",
       "      <td>36</td>\n",
       "      <td>13.5</td>\n",
       "      <td>184.0</td>\n",
       "      <td>9.5</td>\n",
       "      <td>2.6</td>\n",
       "      <td>1.4</td>\n",
       "      <td>0.1</td>\n",
       "      <td>0.0</td>\n",
       "      <td>1.300000</td>\n",
       "      <td>17.000000</td>\n",
       "      <td>11.000000</td>\n",
       "      <td>NaN</td>\n",
       "      <td>0</td>\n",
       "      <td>Adult</td>\n",
       "    </tr>\n",
       "    <tr>\n",
       "      <th>272</th>\n",
       "      <td>China</td>\n",
       "      <td>3/13/10</td>\n",
       "      <td>1</td>\n",
       "      <td>80</td>\n",
       "      <td>3.4</td>\n",
       "      <td>134.0</td>\n",
       "      <td>2.8</td>\n",
       "      <td>0.3</td>\n",
       "      <td>0.3</td>\n",
       "      <td>0.0</td>\n",
       "      <td>0.0</td>\n",
       "      <td>117.100000</td>\n",
       "      <td>53.000000</td>\n",
       "      <td>28.000000</td>\n",
       "      <td>NaN</td>\n",
       "      <td>0</td>\n",
       "      <td>Senior Adult</td>\n",
       "    </tr>\n",
       "    <tr>\n",
       "      <th>273</th>\n",
       "      <td>Pakistan</td>\n",
       "      <td>3/13/10</td>\n",
       "      <td>0</td>\n",
       "      <td>30</td>\n",
       "      <td>6.8</td>\n",
       "      <td>362.0</td>\n",
       "      <td>4.5</td>\n",
       "      <td>1.9</td>\n",
       "      <td>0.4</td>\n",
       "      <td>0.0</td>\n",
       "      <td>0.0</td>\n",
       "      <td>28.100000</td>\n",
       "      <td>24.000000</td>\n",
       "      <td>12.000000</td>\n",
       "      <td>357.0</td>\n",
       "      <td>0</td>\n",
       "      <td>Adult</td>\n",
       "    </tr>\n",
       "    <tr>\n",
       "      <th>274</th>\n",
       "      <td>Pakistan</td>\n",
       "      <td>3/14/10</td>\n",
       "      <td>0</td>\n",
       "      <td>40</td>\n",
       "      <td>5.6</td>\n",
       "      <td>270.0</td>\n",
       "      <td>NaN</td>\n",
       "      <td>NaN</td>\n",
       "      <td>NaN</td>\n",
       "      <td>NaN</td>\n",
       "      <td>NaN</td>\n",
       "      <td>16.700000</td>\n",
       "      <td>22.000000</td>\n",
       "      <td>29.000000</td>\n",
       "      <td>NaN</td>\n",
       "      <td>0</td>\n",
       "      <td>Middle Age Adult</td>\n",
       "    </tr>\n",
       "    <tr>\n",
       "      <th>276</th>\n",
       "      <td>UK</td>\n",
       "      <td>3/14/10</td>\n",
       "      <td>0</td>\n",
       "      <td>44</td>\n",
       "      <td>15.7</td>\n",
       "      <td>356.0</td>\n",
       "      <td>NaN</td>\n",
       "      <td>NaN</td>\n",
       "      <td>NaN</td>\n",
       "      <td>NaN</td>\n",
       "      <td>NaN</td>\n",
       "      <td>2.400000</td>\n",
       "      <td>31.000000</td>\n",
       "      <td>17.000000</td>\n",
       "      <td>272.0</td>\n",
       "      <td>0</td>\n",
       "      <td>Middle Age Adult</td>\n",
       "    </tr>\n",
       "  </tbody>\n",
       "</table>\n",
       "<p>154 rows × 17 columns</p>\n",
       "</div>"
      ],
      "text/plain": [
       "      Country     date  SESSO  AGE   WBC  Piastrine  Neutrofili  Linfociti  \\\n",
       "0      Canada   3/2/07      1   56   2.9      128.0         1.9        0.8   \n",
       "1         USA  3/22/07      1   56   3.5      151.0         2.1        0.9   \n",
       "2     Austria   4/6/07      1   72   4.6      206.0         NaN        NaN   \n",
       "3    Pakistan  4/14/07      1   72  16.5      316.0        14.0        1.2   \n",
       "4     germany  4/15/07      1   77   4.9      198.0         NaN        NaN   \n",
       "..        ...      ...    ...  ...   ...        ...         ...        ...   \n",
       "271       USA  3/13/10      0   36  13.5      184.0         9.5        2.6   \n",
       "272     China  3/13/10      1   80   3.4      134.0         2.8        0.3   \n",
       "273  Pakistan  3/13/10      0   30   6.8      362.0         4.5        1.9   \n",
       "274  Pakistan  3/14/10      0   40   5.6      270.0         NaN        NaN   \n",
       "276        UK  3/14/10      0   44  15.7      356.0         NaN        NaN   \n",
       "\n",
       "     Monociti  Eosinofili  Basofili         PCR        AST        ALT    LDH  \\\n",
       "0         0.2         0.0       0.0   29.000000  36.000000  18.000000  257.0   \n",
       "1         0.4         0.0       0.0   16.500000  25.000000  14.000000  207.0   \n",
       "2         NaN         NaN       NaN  193.700000  31.000000  22.000000    NaN   \n",
       "3         0.3         0.0       0.0  318.700000  96.000000  33.000000  651.0   \n",
       "4         NaN         NaN       NaN   76.043624  39.078947  30.845638    NaN   \n",
       "..        ...         ...       ...         ...        ...        ...    ...   \n",
       "271       1.4         0.1       0.0    1.300000  17.000000  11.000000    NaN   \n",
       "272       0.3         0.0       0.0  117.100000  53.000000  28.000000    NaN   \n",
       "273       0.4         0.0       0.0   28.100000  24.000000  12.000000  357.0   \n",
       "274       NaN         NaN       NaN   16.700000  22.000000  29.000000    NaN   \n",
       "276       NaN         NaN       NaN    2.400000  31.000000  17.000000  272.0   \n",
       "\n",
       "     TARGET         AgeGroups  \n",
       "0         2  Middle Age Adult  \n",
       "1         2  Middle Age Adult  \n",
       "2         2      Senior Adult  \n",
       "3         2      Senior Adult  \n",
       "4         2      Senior Adult  \n",
       "..      ...               ...  \n",
       "271       0             Adult  \n",
       "272       0      Senior Adult  \n",
       "273       0             Adult  \n",
       "274       0  Middle Age Adult  \n",
       "276       0  Middle Age Adult  \n",
       "\n",
       "[154 rows x 17 columns]"
      ]
     },
     "execution_count": 64,
     "metadata": {},
     "output_type": "execute_result"
    }
   ],
   "source": [
    "df"
   ]
  },
  {
   "cell_type": "markdown",
   "metadata": {},
   "source": [
    "### Eosinofili"
   ]
  },
  {
   "cell_type": "code",
   "execution_count": 65,
   "metadata": {},
   "outputs": [],
   "source": [
    "df['Eosinofili'] = df.groupby('AgeGroups')['Eosinofili'].transform(lambda x: x.fillna(x.mean()))"
   ]
  },
  {
   "cell_type": "code",
   "execution_count": 66,
   "metadata": {},
   "outputs": [
    {
     "data": {
      "text/plain": [
       "Basofili      33.766234\n",
       "Neutrofili    34.415584\n",
       "Linfociti     34.415584\n",
       "Monociti      34.415584\n",
       "LDH           35.064935\n",
       "dtype: float64"
      ]
     },
     "execution_count": 66,
     "metadata": {},
     "output_type": "execute_result"
    }
   ],
   "source": [
    "missing_percentage(df)"
   ]
  },
  {
   "cell_type": "markdown",
   "metadata": {},
   "source": [
    "### Neutrofili"
   ]
  },
  {
   "cell_type": "code",
   "execution_count": 67,
   "metadata": {},
   "outputs": [
    {
     "data": {
      "text/plain": [
       "Basofili     33.766234\n",
       "Linfociti    34.415584\n",
       "Monociti     34.415584\n",
       "LDH          35.064935\n",
       "dtype: float64"
      ]
     },
     "execution_count": 67,
     "metadata": {},
     "output_type": "execute_result"
    }
   ],
   "source": [
    "df['Neutrofili'] = df['Neutrofili'].fillna(df['Neutrofili'].mean())\n",
    "missing_percentage(df)"
   ]
  },
  {
   "cell_type": "markdown",
   "metadata": {},
   "source": [
    "### Linfociti"
   ]
  },
  {
   "cell_type": "code",
   "execution_count": 68,
   "metadata": {},
   "outputs": [],
   "source": [
    "male = df[df['SESSO']== 1]\n",
    "\n",
    "female = df[df['SESSO']== 0]"
   ]
  },
  {
   "cell_type": "code",
   "execution_count": 69,
   "metadata": {},
   "outputs": [],
   "source": [
    "male['Linfociti'] = male.groupby(by='AgeGroups')['Linfociti'].transform(lambda x: x.fillna(x.mean()))"
   ]
  },
  {
   "cell_type": "code",
   "execution_count": 70,
   "metadata": {},
   "outputs": [],
   "source": [
    "female['Linfociti'] = female.groupby(by='AgeGroups')['Linfociti'].transform(lambda x: x.fillna(x.mean()))"
   ]
  },
  {
   "cell_type": "code",
   "execution_count": 71,
   "metadata": {},
   "outputs": [],
   "source": [
    "df = pd.concat([male, female], axis=0)"
   ]
  },
  {
   "cell_type": "code",
   "execution_count": 72,
   "metadata": {},
   "outputs": [
    {
     "data": {
      "text/plain": [
       "Linfociti     0.649351\n",
       "Basofili     33.766234\n",
       "Monociti     34.415584\n",
       "LDH          35.064935\n",
       "dtype: float64"
      ]
     },
     "execution_count": 72,
     "metadata": {},
     "output_type": "execute_result"
    }
   ],
   "source": [
    "missing_percentage(df)"
   ]
  },
  {
   "cell_type": "code",
   "execution_count": 73,
   "metadata": {},
   "outputs": [
    {
     "data": {
      "text/html": [
       "<div>\n",
       "<style scoped>\n",
       "    .dataframe tbody tr th:only-of-type {\n",
       "        vertical-align: middle;\n",
       "    }\n",
       "\n",
       "    .dataframe tbody tr th {\n",
       "        vertical-align: top;\n",
       "    }\n",
       "\n",
       "    .dataframe thead th {\n",
       "        text-align: right;\n",
       "    }\n",
       "</style>\n",
       "<table border=\"1\" class=\"dataframe\">\n",
       "  <thead>\n",
       "    <tr style=\"text-align: right;\">\n",
       "      <th></th>\n",
       "      <th>Country</th>\n",
       "      <th>date</th>\n",
       "      <th>SESSO</th>\n",
       "      <th>AGE</th>\n",
       "      <th>WBC</th>\n",
       "      <th>Piastrine</th>\n",
       "      <th>Neutrofili</th>\n",
       "      <th>Linfociti</th>\n",
       "      <th>Monociti</th>\n",
       "      <th>Eosinofili</th>\n",
       "      <th>Basofili</th>\n",
       "      <th>PCR</th>\n",
       "      <th>AST</th>\n",
       "      <th>ALT</th>\n",
       "      <th>LDH</th>\n",
       "      <th>TARGET</th>\n",
       "      <th>AgeGroups</th>\n",
       "    </tr>\n",
       "  </thead>\n",
       "  <tbody>\n",
       "    <tr>\n",
       "      <th>202</th>\n",
       "      <td>Italy</td>\n",
       "      <td>7/31/09</td>\n",
       "      <td>0</td>\n",
       "      <td>18</td>\n",
       "      <td>9.2</td>\n",
       "      <td>311.0</td>\n",
       "      <td>4.828713</td>\n",
       "      <td>NaN</td>\n",
       "      <td>NaN</td>\n",
       "      <td>0.0</td>\n",
       "      <td>NaN</td>\n",
       "      <td>0.1</td>\n",
       "      <td>24.0</td>\n",
       "      <td>27.0</td>\n",
       "      <td>142.0</td>\n",
       "      <td>0</td>\n",
       "      <td>Teen</td>\n",
       "    </tr>\n",
       "  </tbody>\n",
       "</table>\n",
       "</div>"
      ],
      "text/plain": [
       "    Country     date  SESSO  AGE  WBC  Piastrine  Neutrofili  Linfociti  \\\n",
       "202   Italy  7/31/09      0   18  9.2      311.0    4.828713        NaN   \n",
       "\n",
       "     Monociti  Eosinofili  Basofili  PCR   AST   ALT    LDH  TARGET AgeGroups  \n",
       "202       NaN         0.0       NaN  0.1  24.0  27.0  142.0       0      Teen  "
      ]
     },
     "execution_count": 73,
     "metadata": {},
     "output_type": "execute_result"
    }
   ],
   "source": [
    "df[df['Linfociti'].isnull()==True]"
   ]
  },
  {
   "cell_type": "code",
   "execution_count": 74,
   "metadata": {},
   "outputs": [],
   "source": [
    "df['Linfociti'] = df['Linfociti'].fillna(df['Linfociti'].mean())"
   ]
  },
  {
   "cell_type": "code",
   "execution_count": 75,
   "metadata": {},
   "outputs": [
    {
     "data": {
      "text/html": [
       "<div>\n",
       "<style scoped>\n",
       "    .dataframe tbody tr th:only-of-type {\n",
       "        vertical-align: middle;\n",
       "    }\n",
       "\n",
       "    .dataframe tbody tr th {\n",
       "        vertical-align: top;\n",
       "    }\n",
       "\n",
       "    .dataframe thead th {\n",
       "        text-align: right;\n",
       "    }\n",
       "</style>\n",
       "<table border=\"1\" class=\"dataframe\">\n",
       "  <thead>\n",
       "    <tr style=\"text-align: right;\">\n",
       "      <th></th>\n",
       "      <th>Country</th>\n",
       "      <th>date</th>\n",
       "      <th>SESSO</th>\n",
       "      <th>AGE</th>\n",
       "      <th>WBC</th>\n",
       "      <th>Piastrine</th>\n",
       "      <th>Neutrofili</th>\n",
       "      <th>Linfociti</th>\n",
       "      <th>Monociti</th>\n",
       "      <th>Eosinofili</th>\n",
       "      <th>Basofili</th>\n",
       "      <th>PCR</th>\n",
       "      <th>AST</th>\n",
       "      <th>ALT</th>\n",
       "      <th>LDH</th>\n",
       "      <th>TARGET</th>\n",
       "      <th>AgeGroups</th>\n",
       "    </tr>\n",
       "  </thead>\n",
       "  <tbody>\n",
       "    <tr>\n",
       "      <th>202</th>\n",
       "      <td>Italy</td>\n",
       "      <td>7/31/09</td>\n",
       "      <td>0</td>\n",
       "      <td>18</td>\n",
       "      <td>9.2</td>\n",
       "      <td>311.0</td>\n",
       "      <td>4.828713</td>\n",
       "      <td>1.031738</td>\n",
       "      <td>NaN</td>\n",
       "      <td>0.0</td>\n",
       "      <td>NaN</td>\n",
       "      <td>0.1</td>\n",
       "      <td>24.0</td>\n",
       "      <td>27.0</td>\n",
       "      <td>142.0</td>\n",
       "      <td>0</td>\n",
       "      <td>Teen</td>\n",
       "    </tr>\n",
       "  </tbody>\n",
       "</table>\n",
       "</div>"
      ],
      "text/plain": [
       "    Country     date  SESSO  AGE  WBC  Piastrine  Neutrofili  Linfociti  \\\n",
       "202   Italy  7/31/09      0   18  9.2      311.0    4.828713   1.031738   \n",
       "\n",
       "     Monociti  Eosinofili  Basofili  PCR   AST   ALT    LDH  TARGET AgeGroups  \n",
       "202       NaN         0.0       NaN  0.1  24.0  27.0  142.0       0      Teen  "
      ]
     },
     "execution_count": 75,
     "metadata": {},
     "output_type": "execute_result"
    }
   ],
   "source": [
    "df[df.index == 202]"
   ]
  },
  {
   "cell_type": "code",
   "execution_count": 76,
   "metadata": {},
   "outputs": [
    {
     "data": {
      "text/plain": [
       "Basofili    33.766234\n",
       "Monociti    34.415584\n",
       "LDH         35.064935\n",
       "dtype: float64"
      ]
     },
     "execution_count": 76,
     "metadata": {},
     "output_type": "execute_result"
    }
   ],
   "source": [
    "missing_percentage(df)"
   ]
  },
  {
   "cell_type": "markdown",
   "metadata": {},
   "source": [
    "### Monociti"
   ]
  },
  {
   "cell_type": "code",
   "execution_count": 77,
   "metadata": {},
   "outputs": [],
   "source": [
    "df['Monociti'] = df['Monociti'].fillna(df['Monociti'].mean())"
   ]
  },
  {
   "cell_type": "code",
   "execution_count": 78,
   "metadata": {},
   "outputs": [
    {
     "data": {
      "text/plain": [
       "Basofili    33.766234\n",
       "LDH         35.064935\n",
       "dtype: float64"
      ]
     },
     "execution_count": 78,
     "metadata": {},
     "output_type": "execute_result"
    }
   ],
   "source": [
    "missing_percentage(df)"
   ]
  },
  {
   "cell_type": "markdown",
   "metadata": {},
   "source": [
    "### Basofili"
   ]
  },
  {
   "cell_type": "code",
   "execution_count": 79,
   "metadata": {},
   "outputs": [],
   "source": [
    "df['Basofili'] = df['Basofili'].fillna(df['Basofili'].mean())"
   ]
  },
  {
   "cell_type": "code",
   "execution_count": 80,
   "metadata": {},
   "outputs": [
    {
     "data": {
      "text/plain": [
       "LDH    35.064935\n",
       "dtype: float64"
      ]
     },
     "execution_count": 80,
     "metadata": {},
     "output_type": "execute_result"
    }
   ],
   "source": [
    "missing_percentage(df)"
   ]
  },
  {
   "cell_type": "markdown",
   "metadata": {},
   "source": [
    "### LDH"
   ]
  },
  {
   "cell_type": "code",
   "execution_count": 81,
   "metadata": {},
   "outputs": [],
   "source": [
    "df['LDH'] = df.groupby(by='AgeGroups')['LDH'].transform(lambda x: x.fillna(x.mean()))"
   ]
  },
  {
   "cell_type": "markdown",
   "metadata": {},
   "source": [
    "# 9. Now, we don't have any Missing Data"
   ]
  },
  {
   "cell_type": "code",
   "execution_count": 82,
   "metadata": {},
   "outputs": [
    {
     "data": {
      "text/plain": [
       "Series([], dtype: float64)"
      ]
     },
     "execution_count": 82,
     "metadata": {},
     "output_type": "execute_result"
    }
   ],
   "source": [
    "missing_percentage(df)"
   ]
  },
  {
   "cell_type": "code",
   "execution_count": 83,
   "metadata": {},
   "outputs": [
    {
     "data": {
      "text/html": [
       "<div>\n",
       "<style scoped>\n",
       "    .dataframe tbody tr th:only-of-type {\n",
       "        vertical-align: middle;\n",
       "    }\n",
       "\n",
       "    .dataframe tbody tr th {\n",
       "        vertical-align: top;\n",
       "    }\n",
       "\n",
       "    .dataframe thead th {\n",
       "        text-align: right;\n",
       "    }\n",
       "</style>\n",
       "<table border=\"1\" class=\"dataframe\">\n",
       "  <thead>\n",
       "    <tr style=\"text-align: right;\">\n",
       "      <th></th>\n",
       "      <th>Country</th>\n",
       "      <th>date</th>\n",
       "      <th>SESSO</th>\n",
       "      <th>AGE</th>\n",
       "      <th>WBC</th>\n",
       "      <th>Piastrine</th>\n",
       "      <th>Neutrofili</th>\n",
       "      <th>Linfociti</th>\n",
       "      <th>Monociti</th>\n",
       "      <th>Eosinofili</th>\n",
       "      <th>Basofili</th>\n",
       "      <th>PCR</th>\n",
       "      <th>AST</th>\n",
       "      <th>ALT</th>\n",
       "      <th>LDH</th>\n",
       "      <th>TARGET</th>\n",
       "      <th>AgeGroups</th>\n",
       "    </tr>\n",
       "  </thead>\n",
       "  <tbody>\n",
       "    <tr>\n",
       "      <th>0</th>\n",
       "      <td>Canada</td>\n",
       "      <td>3/2/07</td>\n",
       "      <td>1</td>\n",
       "      <td>56</td>\n",
       "      <td>2.9</td>\n",
       "      <td>128.0</td>\n",
       "      <td>1.900000</td>\n",
       "      <td>0.800000</td>\n",
       "      <td>0.200000</td>\n",
       "      <td>0.000000</td>\n",
       "      <td>0.0</td>\n",
       "      <td>29.000000</td>\n",
       "      <td>36.000000</td>\n",
       "      <td>18.000000</td>\n",
       "      <td>257.000000</td>\n",
       "      <td>2</td>\n",
       "      <td>Middle Age Adult</td>\n",
       "    </tr>\n",
       "    <tr>\n",
       "      <th>1</th>\n",
       "      <td>USA</td>\n",
       "      <td>3/22/07</td>\n",
       "      <td>1</td>\n",
       "      <td>56</td>\n",
       "      <td>3.5</td>\n",
       "      <td>151.0</td>\n",
       "      <td>2.100000</td>\n",
       "      <td>0.900000</td>\n",
       "      <td>0.400000</td>\n",
       "      <td>0.000000</td>\n",
       "      <td>0.0</td>\n",
       "      <td>16.500000</td>\n",
       "      <td>25.000000</td>\n",
       "      <td>14.000000</td>\n",
       "      <td>207.000000</td>\n",
       "      <td>2</td>\n",
       "      <td>Middle Age Adult</td>\n",
       "    </tr>\n",
       "    <tr>\n",
       "      <th>2</th>\n",
       "      <td>Austria</td>\n",
       "      <td>4/6/07</td>\n",
       "      <td>1</td>\n",
       "      <td>72</td>\n",
       "      <td>4.6</td>\n",
       "      <td>206.0</td>\n",
       "      <td>4.828713</td>\n",
       "      <td>0.794444</td>\n",
       "      <td>0.492079</td>\n",
       "      <td>0.013208</td>\n",
       "      <td>0.0</td>\n",
       "      <td>193.700000</td>\n",
       "      <td>31.000000</td>\n",
       "      <td>22.000000</td>\n",
       "      <td>400.700000</td>\n",
       "      <td>2</td>\n",
       "      <td>Senior Adult</td>\n",
       "    </tr>\n",
       "    <tr>\n",
       "      <th>3</th>\n",
       "      <td>Pakistan</td>\n",
       "      <td>4/14/07</td>\n",
       "      <td>1</td>\n",
       "      <td>72</td>\n",
       "      <td>16.5</td>\n",
       "      <td>316.0</td>\n",
       "      <td>14.000000</td>\n",
       "      <td>1.200000</td>\n",
       "      <td>0.300000</td>\n",
       "      <td>0.000000</td>\n",
       "      <td>0.0</td>\n",
       "      <td>318.700000</td>\n",
       "      <td>96.000000</td>\n",
       "      <td>33.000000</td>\n",
       "      <td>651.000000</td>\n",
       "      <td>2</td>\n",
       "      <td>Senior Adult</td>\n",
       "    </tr>\n",
       "    <tr>\n",
       "      <th>4</th>\n",
       "      <td>germany</td>\n",
       "      <td>4/15/07</td>\n",
       "      <td>1</td>\n",
       "      <td>77</td>\n",
       "      <td>4.9</td>\n",
       "      <td>198.0</td>\n",
       "      <td>4.828713</td>\n",
       "      <td>0.794444</td>\n",
       "      <td>0.492079</td>\n",
       "      <td>0.013208</td>\n",
       "      <td>0.0</td>\n",
       "      <td>76.043624</td>\n",
       "      <td>39.078947</td>\n",
       "      <td>30.845638</td>\n",
       "      <td>400.700000</td>\n",
       "      <td>2</td>\n",
       "      <td>Senior Adult</td>\n",
       "    </tr>\n",
       "    <tr>\n",
       "      <th>...</th>\n",
       "      <td>...</td>\n",
       "      <td>...</td>\n",
       "      <td>...</td>\n",
       "      <td>...</td>\n",
       "      <td>...</td>\n",
       "      <td>...</td>\n",
       "      <td>...</td>\n",
       "      <td>...</td>\n",
       "      <td>...</td>\n",
       "      <td>...</td>\n",
       "      <td>...</td>\n",
       "      <td>...</td>\n",
       "      <td>...</td>\n",
       "      <td>...</td>\n",
       "      <td>...</td>\n",
       "      <td>...</td>\n",
       "      <td>...</td>\n",
       "    </tr>\n",
       "    <tr>\n",
       "      <th>266</th>\n",
       "      <td>China</td>\n",
       "      <td>3/11/10</td>\n",
       "      <td>0</td>\n",
       "      <td>32</td>\n",
       "      <td>10.7</td>\n",
       "      <td>370.0</td>\n",
       "      <td>4.828713</td>\n",
       "      <td>1.737500</td>\n",
       "      <td>0.492079</td>\n",
       "      <td>0.036364</td>\n",
       "      <td>0.0</td>\n",
       "      <td>13.200000</td>\n",
       "      <td>21.000000</td>\n",
       "      <td>13.000000</td>\n",
       "      <td>283.833333</td>\n",
       "      <td>0</td>\n",
       "      <td>Adult</td>\n",
       "    </tr>\n",
       "    <tr>\n",
       "      <th>271</th>\n",
       "      <td>USA</td>\n",
       "      <td>3/13/10</td>\n",
       "      <td>0</td>\n",
       "      <td>36</td>\n",
       "      <td>13.5</td>\n",
       "      <td>184.0</td>\n",
       "      <td>9.500000</td>\n",
       "      <td>2.600000</td>\n",
       "      <td>1.400000</td>\n",
       "      <td>0.100000</td>\n",
       "      <td>0.0</td>\n",
       "      <td>1.300000</td>\n",
       "      <td>17.000000</td>\n",
       "      <td>11.000000</td>\n",
       "      <td>283.833333</td>\n",
       "      <td>0</td>\n",
       "      <td>Adult</td>\n",
       "    </tr>\n",
       "    <tr>\n",
       "      <th>273</th>\n",
       "      <td>Pakistan</td>\n",
       "      <td>3/13/10</td>\n",
       "      <td>0</td>\n",
       "      <td>30</td>\n",
       "      <td>6.8</td>\n",
       "      <td>362.0</td>\n",
       "      <td>4.500000</td>\n",
       "      <td>1.900000</td>\n",
       "      <td>0.400000</td>\n",
       "      <td>0.000000</td>\n",
       "      <td>0.0</td>\n",
       "      <td>28.100000</td>\n",
       "      <td>24.000000</td>\n",
       "      <td>12.000000</td>\n",
       "      <td>357.000000</td>\n",
       "      <td>0</td>\n",
       "      <td>Adult</td>\n",
       "    </tr>\n",
       "    <tr>\n",
       "      <th>274</th>\n",
       "      <td>Pakistan</td>\n",
       "      <td>3/14/10</td>\n",
       "      <td>0</td>\n",
       "      <td>40</td>\n",
       "      <td>5.6</td>\n",
       "      <td>270.0</td>\n",
       "      <td>4.828713</td>\n",
       "      <td>1.100000</td>\n",
       "      <td>0.492079</td>\n",
       "      <td>0.005405</td>\n",
       "      <td>0.0</td>\n",
       "      <td>16.700000</td>\n",
       "      <td>22.000000</td>\n",
       "      <td>29.000000</td>\n",
       "      <td>318.583333</td>\n",
       "      <td>0</td>\n",
       "      <td>Middle Age Adult</td>\n",
       "    </tr>\n",
       "    <tr>\n",
       "      <th>276</th>\n",
       "      <td>UK</td>\n",
       "      <td>3/14/10</td>\n",
       "      <td>0</td>\n",
       "      <td>44</td>\n",
       "      <td>15.7</td>\n",
       "      <td>356.0</td>\n",
       "      <td>4.828713</td>\n",
       "      <td>1.100000</td>\n",
       "      <td>0.492079</td>\n",
       "      <td>0.005405</td>\n",
       "      <td>0.0</td>\n",
       "      <td>2.400000</td>\n",
       "      <td>31.000000</td>\n",
       "      <td>17.000000</td>\n",
       "      <td>272.000000</td>\n",
       "      <td>0</td>\n",
       "      <td>Middle Age Adult</td>\n",
       "    </tr>\n",
       "  </tbody>\n",
       "</table>\n",
       "<p>154 rows × 17 columns</p>\n",
       "</div>"
      ],
      "text/plain": [
       "      Country     date  SESSO  AGE   WBC  Piastrine  Neutrofili  Linfociti  \\\n",
       "0      Canada   3/2/07      1   56   2.9      128.0    1.900000   0.800000   \n",
       "1         USA  3/22/07      1   56   3.5      151.0    2.100000   0.900000   \n",
       "2     Austria   4/6/07      1   72   4.6      206.0    4.828713   0.794444   \n",
       "3    Pakistan  4/14/07      1   72  16.5      316.0   14.000000   1.200000   \n",
       "4     germany  4/15/07      1   77   4.9      198.0    4.828713   0.794444   \n",
       "..        ...      ...    ...  ...   ...        ...         ...        ...   \n",
       "266     China  3/11/10      0   32  10.7      370.0    4.828713   1.737500   \n",
       "271       USA  3/13/10      0   36  13.5      184.0    9.500000   2.600000   \n",
       "273  Pakistan  3/13/10      0   30   6.8      362.0    4.500000   1.900000   \n",
       "274  Pakistan  3/14/10      0   40   5.6      270.0    4.828713   1.100000   \n",
       "276        UK  3/14/10      0   44  15.7      356.0    4.828713   1.100000   \n",
       "\n",
       "     Monociti  Eosinofili  Basofili         PCR        AST        ALT  \\\n",
       "0    0.200000    0.000000       0.0   29.000000  36.000000  18.000000   \n",
       "1    0.400000    0.000000       0.0   16.500000  25.000000  14.000000   \n",
       "2    0.492079    0.013208       0.0  193.700000  31.000000  22.000000   \n",
       "3    0.300000    0.000000       0.0  318.700000  96.000000  33.000000   \n",
       "4    0.492079    0.013208       0.0   76.043624  39.078947  30.845638   \n",
       "..        ...         ...       ...         ...        ...        ...   \n",
       "266  0.492079    0.036364       0.0   13.200000  21.000000  13.000000   \n",
       "271  1.400000    0.100000       0.0    1.300000  17.000000  11.000000   \n",
       "273  0.400000    0.000000       0.0   28.100000  24.000000  12.000000   \n",
       "274  0.492079    0.005405       0.0   16.700000  22.000000  29.000000   \n",
       "276  0.492079    0.005405       0.0    2.400000  31.000000  17.000000   \n",
       "\n",
       "            LDH  TARGET         AgeGroups  \n",
       "0    257.000000       2  Middle Age Adult  \n",
       "1    207.000000       2  Middle Age Adult  \n",
       "2    400.700000       2      Senior Adult  \n",
       "3    651.000000       2      Senior Adult  \n",
       "4    400.700000       2      Senior Adult  \n",
       "..          ...     ...               ...  \n",
       "266  283.833333       0             Adult  \n",
       "271  283.833333       0             Adult  \n",
       "273  357.000000       0             Adult  \n",
       "274  318.583333       0  Middle Age Adult  \n",
       "276  272.000000       0  Middle Age Adult  \n",
       "\n",
       "[154 rows x 17 columns]"
      ]
     },
     "execution_count": 83,
     "metadata": {},
     "output_type": "execute_result"
    }
   ],
   "source": [
    "df"
   ]
  },
  {
   "cell_type": "markdown",
   "metadata": {},
   "source": [
    "# 10.Save Dataset"
   ]
  },
  {
   "cell_type": "code",
   "execution_count": 84,
   "metadata": {},
   "outputs": [],
   "source": [
    "#save\n",
    "\n",
    "df.to_csv('COVID19_new.csv')"
   ]
  },
  {
   "cell_type": "markdown",
   "metadata": {},
   "source": [
    "## Done!\n",
    "\n",
    "**Nourzad**\n"
   ]
  }
 ],
 "metadata": {
  "kernelspec": {
   "display_name": "Python 3 (ipykernel)",
   "language": "python",
   "name": "python3"
  },
  "language_info": {
   "codemirror_mode": {
    "name": "ipython",
    "version": 3
   },
   "file_extension": ".py",
   "mimetype": "text/x-python",
   "name": "python",
   "nbconvert_exporter": "python",
   "pygments_lexer": "ipython3",
   "version": "3.10.9"
  }
 },
 "nbformat": 4,
 "nbformat_minor": 4
}
